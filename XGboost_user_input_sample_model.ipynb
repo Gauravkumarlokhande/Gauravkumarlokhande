{
  "nbformat": 4,
  "nbformat_minor": 0,
  "metadata": {
    "colab": {
      "name": "XGboost user input sample model.ipynb",
      "provenance": [],
      "collapsed_sections": [],
      "mount_file_id": "1BGgBBbWCKRAAKmfg9DzUIx9msTr--WrA",
      "authorship_tag": "ABX9TyNwPtoTWYuJXd/Gn4+YihCT",
      "include_colab_link": true
    },
    "kernelspec": {
      "name": "python3",
      "display_name": "Python 3"
    },
    "language_info": {
      "name": "python"
    }
  },
  "cells": [
    {
      "cell_type": "markdown",
      "metadata": {
        "id": "view-in-github",
        "colab_type": "text"
      },
      "source": [
        "<a href=\"https://colab.research.google.com/github/Gauravkumarlokhande/Gauravkumarlokhande/blob/main/XGboost_user_input_sample_model.ipynb\" target=\"_parent\"><img src=\"https://colab.research.google.com/assets/colab-badge.svg\" alt=\"Open In Colab\"/></a>"
      ]
    },
    {
      "cell_type": "code",
      "execution_count": 1,
      "metadata": {
        "id": "kMYN3gHlMAgh"
      },
      "outputs": [],
      "source": [
        "import pandas as pd\n",
        "import warnings\n",
        "warnings.filterwarnings('ignore')"
      ]
    },
    {
      "cell_type": "code",
      "source": [
        "data=pd.read_csv('/content/drive/MyDrive/Red Wine Quality.csv')"
      ],
      "metadata": {
        "id": "i7tvFLLOO96f"
      },
      "execution_count": 3,
      "outputs": []
    },
    {
      "cell_type": "code",
      "source": [
        "def impute(value):\n",
        "  if value<=4:\n",
        "    return 0\n",
        "  else:\n",
        "    return 1"
      ],
      "metadata": {
        "id": "iI2vECMkPKOw"
      },
      "execution_count": 4,
      "outputs": []
    },
    {
      "cell_type": "code",
      "source": [
        "data['quality']=data['quality'].apply(impute)"
      ],
      "metadata": {
        "id": "TzXtYz7wPS_y"
      },
      "execution_count": 5,
      "outputs": []
    },
    {
      "cell_type": "markdown",
      "source": [
        "# ***XGBoost Algorithm***"
      ],
      "metadata": {
        "id": "05F37Coq8U4z"
      }
    },
    {
      "cell_type": "code",
      "source": [
        "dept=str(input('Please enter the name of your dependent variable (same as given in the data): '))\n",
        "y=data[dept]\n",
        "x=data.drop(columns=[dept])\n",
        "\n",
        "test=float(input('please select the size for testing (should be a decimal between 0 and 1): '))\n",
        "state=int(input('please specify the random state: '))\n",
        "import random\n",
        "random.seed(10)\n",
        "from sklearn.model_selection import train_test_split as tst\n",
        "x_train,x_test,y_train,y_test=tst(x,y,random_state=state,test_size=test)\n",
        "print('----------------------------------------------------------------------------------------------')\n",
        "print('shape of x_train= {}'.format(x_train.shape))\n",
        "print('shape of x_test= {}'.format(x_test.shape))\n",
        "print('shape of y_train= {}'.format(y_train.shape))\n",
        "print('shape of y_test= {}'.format(y_test.shape))\n",
        "print('----------------------------------------------------------------------------------------------')\n",
        "\n",
        "choice=str(input('Do you want to scale the data (yes or no): '))\n",
        "if choice=='yes':\n",
        "    from sklearn.preprocessing import StandardScaler as STD\n",
        "    st=STD()\n",
        "    x_train=st.fit_transform(x_train)\n",
        "    x_test=st.fit_transform(x_test)\n",
        "else:\n",
        "    print('You have choosen not to scale the data')\n",
        "print('-----------------------------------------------------------------------------------------------')\n",
        "from xgboost import XGBClassifier as XGBC\n",
        "xb=XGBC()\n",
        "xb.fit(x_train,y_train)\n",
        "print('------------------------------------------------------------------------------------------------')\n",
        "print('Accuracy score for training data: ', xb.score(x_train,y_train))\n",
        "print('Accuracy score for testing data: ',xb.score(x_test,y_test))\n",
        "\n",
        "y_pred_train=xb.predict(x_train)\n",
        "y_pred_test=xb.predict(x_test)\n",
        "\n",
        "from sklearn.metrics import classification_report, auc, roc_curve, confusion_matrix\n",
        "print('--------------------------------------------------------------------------------------------------')\n",
        "print('Classification report for training data')\n",
        "print(classification_report(y_train,y_pred_train))\n",
        "print('--------------------------------------------------------------------------------------------------')\n",
        "\n",
        "print('Classification report for testing data')\n",
        "print(classification_report(y_test,y_pred_test))\n",
        "print('--------------------------------------------------------------------------------------------------')\n",
        "\n",
        "print('Confusion matrix')\n",
        "print(confusion_matrix(y_test,y_pred_test))\n",
        "print('--------------------------------------------------------------------------------------------------')\n",
        "\n",
        "import matplotlib.pyplot as plt\n",
        "\n",
        "xb_fpr,xb_tpr,threshold=roc_curve(y_test,y_pred_test)\n",
        "xb_fpr_train,xb_tpr_train,threshold=roc_curve(y_train,y_pred_train)\n",
        "\n",
        "auc_xb=auc(xb_fpr,xb_tpr)\n",
        "auc_xb_train=auc(xb_fpr_train,xb_tpr_train)\n",
        "\n",
        "plt.figure(figsize=(10,5))\n",
        "plt.plot(xb_fpr,xb_tpr,marker='.',color='red')\n",
        "plt.plot(xb_fpr_train,xb_tpr_train,marker='*',color='blue')\n",
        "\n",
        "plt.xlabel('False Positive Rate---->')\n",
        "plt.ylabel('True Positive Rate---->')\n"
      ],
      "metadata": {
        "colab": {
          "base_uri": "https://localhost:8080/",
          "height": 1000
        },
        "id": "yR-jFWZVPaAx",
        "outputId": "e7fee669-8efa-4e4b-86b9-402667389cd3"
      },
      "execution_count": 6,
      "outputs": [
        {
          "output_type": "stream",
          "name": "stdout",
          "text": [
            "Please enter the name of your dependent variable (same as given in the data): quality\n",
            "please select the size for testing (should be a decimal between 0 and 1): 0.4\n",
            "please specify the random state: 101\n",
            "----------------------------------------------------------------------------------------------\n",
            "shape of x_train= (959, 11)\n",
            "shape of x_test= (640, 11)\n",
            "shape of y_train= (959,)\n",
            "shape of y_test= (640,)\n",
            "----------------------------------------------------------------------------------------------\n",
            "Do you want to scale the data (yes or no): no\n",
            "You have choosen not to scale the data\n",
            "-----------------------------------------------------------------------------------------------\n",
            "------------------------------------------------------------------------------------------------\n",
            "Accuracy score for training data:  0.9843587069864442\n",
            "Accuracy score for testing data:  0.95\n",
            "--------------------------------------------------------------------------------------------------\n",
            "Classification report for training data\n",
            "              precision    recall  f1-score   support\n",
            "\n",
            "           0       1.00      0.58      0.74        36\n",
            "           1       0.98      1.00      0.99       923\n",
            "\n",
            "    accuracy                           0.98       959\n",
            "   macro avg       0.99      0.79      0.86       959\n",
            "weighted avg       0.98      0.98      0.98       959\n",
            "\n",
            "--------------------------------------------------------------------------------------------------\n",
            "Classification report for testing data\n",
            "              precision    recall  f1-score   support\n",
            "\n",
            "           0       0.27      0.11      0.16        27\n",
            "           1       0.96      0.99      0.97       613\n",
            "\n",
            "    accuracy                           0.95       640\n",
            "   macro avg       0.62      0.55      0.57       640\n",
            "weighted avg       0.93      0.95      0.94       640\n",
            "\n",
            "--------------------------------------------------------------------------------------------------\n",
            "Confusion matrix\n",
            "[[  3  24]\n",
            " [  8 605]]\n",
            "--------------------------------------------------------------------------------------------------\n"
          ]
        },
        {
          "output_type": "execute_result",
          "data": {
            "text/plain": [
              "Text(0, 0.5, 'True Positive Rate---->')"
            ]
          },
          "metadata": {},
          "execution_count": 6
        },
        {
          "output_type": "display_data",
          "data": {
            "text/plain": [
              "<Figure size 720x360 with 1 Axes>"
            ],
            "image/png": "[encoded data removed]"
          },
          "metadata": {
            "needs_background": "light"
          }
        }
      ]
    }
  ]
}