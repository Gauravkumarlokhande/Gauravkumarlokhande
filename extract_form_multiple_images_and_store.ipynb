{
  "nbformat": 4,
  "nbformat_minor": 0,
  "metadata": {
    "colab": {
      "name": "extract form multiple images and store.ipynb",
      "provenance": [],
      "collapsed_sections": [],
      "mount_file_id": "14of5tG3XPOiWFW-9OkVmtppCipTGqfhF",
      "authorship_tag": "ABX9TyOEE3NDYKwUPmRv3aZ5AohY",
      "include_colab_link": true
    },
    "kernelspec": {
      "name": "python3",
      "display_name": "Python 3"
    },
    "language_info": {
      "name": "python"
    }
  },
  "cells": [
    {
      "cell_type": "markdown",
      "metadata": {
        "id": "view-in-github",
        "colab_type": "text"
      },
      "source": [
        "<a href=\"https://colab.research.google.com/github/Gauravkumarlokhande/Gauravkumarlokhande/blob/main/extract_form_multiple_images_and_store.ipynb\" target=\"_parent\"><img src=\"https://colab.research.google.com/assets/colab-badge.svg\" alt=\"Open In Colab\"/></a>"
      ]
    },
    {
      "cell_type": "code",
      "execution_count": 31,
      "metadata": {
        "colab": {
          "base_uri": "https://localhost:8080/"
        },
        "id": "crNyFEKdBlp8",
        "outputId": "54b244d9-2891-42a4-9692-8332a4f293f5"
      },
      "outputs": [
        {
          "output_type": "stream",
          "name": "stdout",
          "text": [
            "Requirement already satisfied: easyocr in /usr/local/lib/python3.7/dist-packages (1.4.1)\n",
            "Requirement already satisfied: numpy in /usr/local/lib/python3.7/dist-packages (from easyocr) (1.21.5)\n",
            "Requirement already satisfied: torch in /usr/local/lib/python3.7/dist-packages (from easyocr) (1.10.0+cu111)\n",
            "Requirement already satisfied: PyYAML in /usr/local/lib/python3.7/dist-packages (from easyocr) (3.13)\n",
            "Requirement already satisfied: torchvision>=0.5 in /usr/local/lib/python3.7/dist-packages (from easyocr) (0.11.1+cu111)\n",
            "Requirement already satisfied: scikit-image in /usr/local/lib/python3.7/dist-packages (from easyocr) (0.18.3)\n",
            "Requirement already satisfied: python-bidi in /usr/local/lib/python3.7/dist-packages (from easyocr) (0.4.2)\n",
            "Requirement already satisfied: Pillow<8.3.0 in /usr/local/lib/python3.7/dist-packages (from easyocr) (7.1.2)\n",
            "Requirement already satisfied: opencv-python-headless in /usr/local/lib/python3.7/dist-packages (from easyocr) (4.5.2.52)\n",
            "Requirement already satisfied: scipy in /usr/local/lib/python3.7/dist-packages (from easyocr) (1.4.1)\n",
            "Requirement already satisfied: typing-extensions in /usr/local/lib/python3.7/dist-packages (from torch->easyocr) (3.10.0.2)\n",
            "Requirement already satisfied: six in /usr/local/lib/python3.7/dist-packages (from python-bidi->easyocr) (1.15.0)\n",
            "Requirement already satisfied: imageio>=2.3.0 in /usr/local/lib/python3.7/dist-packages (from scikit-image->easyocr) (2.4.1)\n",
            "Requirement already satisfied: networkx>=2.0 in /usr/local/lib/python3.7/dist-packages (from scikit-image->easyocr) (2.6.3)\n",
            "Requirement already satisfied: tifffile>=2019.7.26 in /usr/local/lib/python3.7/dist-packages (from scikit-image->easyocr) (2021.11.2)\n",
            "Requirement already satisfied: PyWavelets>=1.1.1 in /usr/local/lib/python3.7/dist-packages (from scikit-image->easyocr) (1.3.0)\n",
            "Requirement already satisfied: matplotlib!=3.0.0,>=2.0.0 in /usr/local/lib/python3.7/dist-packages (from scikit-image->easyocr) (3.2.2)\n",
            "Requirement already satisfied: pyparsing!=2.0.4,!=2.1.2,!=2.1.6,>=2.0.1 in /usr/local/lib/python3.7/dist-packages (from matplotlib!=3.0.0,>=2.0.0->scikit-image->easyocr) (3.0.7)\n",
            "Requirement already satisfied: kiwisolver>=1.0.1 in /usr/local/lib/python3.7/dist-packages (from matplotlib!=3.0.0,>=2.0.0->scikit-image->easyocr) (1.4.0)\n",
            "Requirement already satisfied: cycler>=0.10 in /usr/local/lib/python3.7/dist-packages (from matplotlib!=3.0.0,>=2.0.0->scikit-image->easyocr) (0.11.0)\n",
            "Requirement already satisfied: python-dateutil>=2.1 in /usr/local/lib/python3.7/dist-packages (from matplotlib!=3.0.0,>=2.0.0->scikit-image->easyocr) (2.8.2)\n"
          ]
        }
      ],
      "source": [
        "!pip install easyocr\n"
      ]
    },
    {
      "cell_type": "code",
      "source": [
        "pip install opencv-python-headless==4.5.2.52"
      ],
      "metadata": {
        "colab": {
          "base_uri": "https://localhost:8080/"
        },
        "id": "szOwwdl1BwAV",
        "outputId": "209482cf-96b9-4c7a-a6a9-eefd969a1939"
      },
      "execution_count": 32,
      "outputs": [
        {
          "output_type": "stream",
          "name": "stdout",
          "text": [
            "Requirement already satisfied: opencv-python-headless==4.5.2.52 in /usr/local/lib/python3.7/dist-packages (4.5.2.52)\n",
            "Requirement already satisfied: numpy>=1.14.5 in /usr/local/lib/python3.7/dist-packages (from opencv-python-headless==4.5.2.52) (1.21.5)\n"
          ]
        }
      ]
    },
    {
      "cell_type": "code",
      "source": [
        "!pip install python-docx"
      ],
      "metadata": {
        "colab": {
          "base_uri": "https://localhost:8080/"
        },
        "id": "ey3w-fzmHF0w",
        "outputId": "8d48ff90-8481-4f3b-e897-c537eaa11a4a"
      },
      "execution_count": 33,
      "outputs": [
        {
          "output_type": "stream",
          "name": "stdout",
          "text": [
            "Requirement already satisfied: python-docx in /usr/local/lib/python3.7/dist-packages (0.8.11)\n",
            "Requirement already satisfied: lxml>=2.3.2 in /usr/local/lib/python3.7/dist-packages (from python-docx) (4.2.6)\n"
          ]
        }
      ]
    },
    {
      "cell_type": "code",
      "source": [
        "import cv2\n",
        "import glob\n",
        "import easyocr\n",
        "from pylab import rcParams\n",
        "rcParams['figure.figsize']=2,2\n",
        "import numpy as np"
      ],
      "metadata": {
        "id": "qEsh4AtHB41w"
      },
      "execution_count": 34,
      "outputs": []
    },
    {
      "cell_type": "code",
      "source": [
        "from google.colab.patches import cv2_imshow\n",
        "from docx import Document"
      ],
      "metadata": {
        "id": "XPG6NZctB-Ir"
      },
      "execution_count": 35,
      "outputs": []
    },
    {
      "cell_type": "code",
      "source": [
        "from nltk.tokenize.treebank import TreebankWordDetokenizer\n"
      ],
      "metadata": {
        "id": "zEARojUcH0i2"
      },
      "execution_count": 36,
      "outputs": []
    },
    {
      "cell_type": "code",
      "source": [
        "path=glob.glob('/content/drive/MyDrive/new/*')\n",
        "cv_image=[]\n",
        "for file in path:\n",
        "  img=cv2.imread(file)\n",
        "  cv_image.append(img)"
      ],
      "metadata": {
        "id": "I92UXvA8CDf-"
      },
      "execution_count": 37,
      "outputs": []
    },
    {
      "cell_type": "code",
      "source": [
        "reader=easyocr.Reader(['en'])"
      ],
      "metadata": {
        "colab": {
          "base_uri": "https://localhost:8080/"
        },
        "id": "epZiO6nECjN_",
        "outputId": "ef12808c-0b6f-4c52-b7c0-f84a144b0fb9"
      },
      "execution_count": 38,
      "outputs": [
        {
          "output_type": "stream",
          "name": "stderr",
          "text": [
            "CUDA not available - defaulting to CPU. Note: This module is much faster with a GPU.\n"
          ]
        }
      ]
    },
    {
      "cell_type": "code",
      "source": [
        "\n",
        "count=0\n",
        "for i in cv_image:\n",
        "  list_img=[]\n",
        "  output=reader.readtext(i)\n",
        "  for j in output:\n",
        "    image_text=j[1]\n",
        "    list_img.append(image_text)\n",
        "    text=TreebankWordDetokenizer().detokenize(list_img)\n",
        "  print(text)\n",
        "  document = Document()\n",
        "  document.add_heading('Covid Virus', 0)\n",
        "  p = document.add_paragraph(text)\n",
        "  count+=1\n",
        "  document.save('Demo_doc #{}.docx'.format(count))\n",
        "  \n"
      ],
      "metadata": {
        "colab": {
          "base_uri": "https://localhost:8080/"
        },
        "id": "c8Qvhqu3CIzW",
        "outputId": "8f44cfac-7a75-4709-f620-c7446f08a33d"
      },
      "execution_count": 71,
      "outputs": [
        {
          "output_type": "stream",
          "name": "stdout",
          "text": [
            "adaptive   evolution, close monitoring of the viral mutations   that occur subsequent   human-to- human transmission is warranted. M Protein The M protein is the most abundant viral protein present in the virion particle, giving a definite to the viral envelope (48). It binds to the nucleocapsid and acts as central   organizer of coronavirus assembly (49). Coronavirus M proteins are highly diverse in amino acid contents but maintain overall structural similarity within different genera (50). The M protein has three transmembrane domains, flanked by a short amino terminus outside the virion and carboxy terminus  inside the virion (50). Overall the viral scaffold is maintained by M-M interaction. Of note, the M protein of SARS-CoV-2 does not have an amino acid substitution compared to that of SARS-CoV (16). E Protein The coronavirus E protein is the most enigmatic and smallest of the major structural proteins (51). It plays multifunctional role in the pathogenesis; assembly, and release of the virus (52). It is a small integral membrane polypeptide that acts as viroporin (ion channel) (53). The inactivation or during shape long\n",
            "DIAGNOSIS OF SARS-CoV-2 (COVID- 19) RNA tests can confirm the diagnosis of SARS- CoV-2 (COVID-19) cases with real-time RT-PCR or next- generation sequencing 148, 149, 245, 246). At present, nucleic acid detection techniques, like RT- PCR, are considered an effective method for confirming the diagnosis in clinical cases of COVID- 19 (148). Several  companies across the world are currently   focusing on developing and   marketing SARS-CoV-2-specific nucleic acid detection kits. Multiple laboratories are also developing their own in-house RT-PCR. One of them is the SARS-CoV-2 nucleic   acid detection kit   produced by Shuoshi Biotechnology (double   fluorescence PCR method) (150). Up to 30 March 2020, the U.S. Food and Drug Administration (FDA) had   granted 22 in vitro diagnostics Emergency Use Authorizations (EUAs), including for the RT-PCR diagnostic for the universal detection of SARS-like betacoronaviruses and  specific detection of SARS-CoV-2, developed by the U.S. CDC Table 1) (258,259). panel\n",
            "adaptive   evolution, close monitoring of the viral mutations   that occur subsequent   human-to- human transmission is warranted. M Protein The M protein is the most abundant viral protein present in the virion particle, giving a definite to the viral envelope (48). It binds to the nucleocapsid and acts as central   organizer of coronavirus assembly (49). Coronavirus M proteins are highly diverse in amino acid contents but maintain overall structural similarity within different genera (50). The M protein has three transmembrane domains, flanked by a short amino terminus outside the virion and carboxy terminus  inside the virion (50). Overall the viral scaffold is maintained by M-M interaction. Of note, the M protein of SARS-CoV-2 does not have an amino acid substitution compared to that of SARS-CoV (16). E Protein The coronavirus E protein is the most enigmatic and smallest of the major structural proteins (51). It plays multifunctional role in the pathogenesis; assembly, and release of the virus (52). It is a small integral membrane polypeptide that acts as viroporin (ion channel) (53). The inactivation or during shape long\n",
            "other emerging viral diseases. Several   therapeutic and preventive strategies, including vaccines, immunotherapeutics, and antiviral drugs, have been exploited against the previous CoV outbreaks (SARS-CoV and MERS-CoV) (8, 104, 164-167). These valuable options have already been evaluated for  their potency, efficacy, and safety, with several other types of current research that will fuel our search for ideal therapeutic agents COVID-19 (7, 9, 19, 21, 36). The primary cause of the unavailability of   approved and commercial vaccines,  drugs, and therapeutics to counter the earlier SARS-CoV and MERS-CoV seems t0 owe to the lesser attention of the biomedicine and pharmaceutical  companies, as these two CoVs did not cause much havoc, global threat, and panic like those   posed by the SARS-CoV-2   pandemic (19). Moreover; for such outbreak situations, the requirement for vaccines and therapeutics/drugs exists only for a limited period, until the outbreak is controlled. The proportion of the human population infected with SARS-CoV and MERS-CoV was also much lower across the globe, failing to attract and vaccine manufacturers and producers. Therefore, by the time an effective or vaccine is designed against such disease outbreaks, the virus would have been controlled by adopting appropriate and strict along against drug drug\n",
            "other emerging viral diseases. Several   therapeutic and preventive strategies, including vaccines, immunotherapeutics, and antiviral drugs, have been exploited against the previous CoV outbreaks (SARS-CoV and MERS-CoV) (8, 104, 164-167). These valuable options have already been evaluated for  their potency, efficacy, and safety, with several other types of current research that will fuel our search for ideal therapeutic agents COVID-19 (7, 9, 19, 21, 36). The primary cause of the unavailability of   approved and commercial vaccines,  drugs, and therapeutics to counter the earlier SARS-CoV and MERS-CoV seems t0 owe to the lesser attention of the biomedicine and pharmaceutical  companies, as these two CoVs did not cause much havoc, global threat, and panic like those   posed by the SARS-CoV-2   pandemic (19). Moreover; for such outbreak situations, the requirement for vaccines and therapeutics/drugs exists only for a limited period, until the outbreak is controlled. The proportion of the human population infected with SARS-CoV and MERS-CoV was also much lower across the globe, failing to attract and vaccine manufacturers and producers. Therefore, by the time an effective or vaccine is designed against such disease outbreaks, the virus would have been controlled by adopting appropriate and strict along against drug drug\n",
            "DIAGNOSIS OF SARS-CoV-2 (COVID- 19) RNA tests can confirm the diagnosis of SARS- CoV-2 (COVID-19) cases with real-time RT-PCR or next- generation sequencing 148, 149, 245, 246). At present, nucleic acid detection techniques, like RT- PCR, are considered an effective method for confirming the diagnosis in clinical cases of COVID- 19 (148). Several  companies across the world are currently   focusing on developing and   marketing SARS-CoV-2-specific nucleic acid detection kits. Multiple laboratories are also developing their own in-house RT-PCR. One of them is the SARS-CoV-2 nucleic   acid detection kit   produced by Shuoshi Biotechnology (double   fluorescence PCR method) (150). Up to 30 March 2020, the U.S. Food and Drug Administration (FDA) had   granted 22 in vitro diagnostics Emergency Use Authorizations (EUAs), including for the RT-PCR diagnostic for the universal detection of SARS-like betacoronaviruses and  specific detection of SARS-CoV-2, developed by the U.S. CDC Table 1) (258,259). panel\n",
            "recovered patients   and used for plasma transfusion twice in a   volume of 200 to 250 ml on the of collection (310). At present; treatment for and ARDS mainly involves antimicrobial therapy, source control, and supportive care. Hence, the use of therapeutic plasma exchange can be considered an option in managing such severe conditions. Further randomized trials can be designed to investigate its efficacy (311). Potential Therapeutic Agents Potent therapeutics to combat SARS-CoV-2 infection include virus binding molecules, molecules or inhibitors targeting particular enzymes implicated in replication and transcription process of the virus, helicase inhibitors, vital viral proteases and proteins, protease inhibitors of host cells, endocytosis inhibitors, short interfering RNA (siRNA), neutralizing antibodies, MAbs against the host receptor; MAbs interfering with the Sl RBD antiviral peptide aimed at S2, and natural drugs/medicines (7, 166, 186). The S protein acts as the critical target for developing CoV antivirals, like inhibitors of S protein and S cleavage, neutralizing antibodies, RBD-ACE2 blockers, siRNAs, blockers of the fusion core, and proteases 168). All of these therapeutic approaches have revealed day sepsis\n",
            "recovered patients   and used for plasma transfusion twice in a   volume of 200 to 250 ml on the of collection (310). At present; treatment for and ARDS mainly involves antimicrobial therapy, source control, and supportive care. Hence, the use of therapeutic plasma exchange can be considered an option in managing such severe conditions. Further randomized trials can be designed to investigate its efficacy (311). Potential Therapeutic Agents Potent therapeutics to combat SARS-CoV-2 infection include virus binding molecules, molecules or inhibitors targeting particular enzymes implicated in replication and transcription process of the virus, helicase inhibitors, vital viral proteases and proteins, protease inhibitors of host cells, endocytosis inhibitors, short interfering RNA (siRNA), neutralizing antibodies, MAbs against the host receptor; MAbs interfering with the Sl RBD antiviral peptide aimed at S2, and natural drugs/medicines (7, 166, 186). The S protein acts as the critical target for developing CoV antivirals, like inhibitors of S protein and S cleavage, neutralizing antibodies, RBD-ACE2 blockers, siRNAs, blockers of the fusion core, and proteases 168). All of these therapeutic approaches have revealed day sepsis\n"
          ]
        }
      ]
    },
    {
      "cell_type": "code",
      "source": [
        ""
      ],
      "metadata": {
        "id": "UwiBSq7fKLx8"
      },
      "execution_count": 39,
      "outputs": []
    }
  ]
}