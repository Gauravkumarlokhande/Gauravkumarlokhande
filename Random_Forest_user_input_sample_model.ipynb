{
  "nbformat": 4,
  "nbformat_minor": 0,
  "metadata": {
    "colab": {
      "name": "Random Forest user input sample model.ipynb",
      "provenance": [],
      "collapsed_sections": [],
      "mount_file_id": "1wjoQcnQaL64J0MKHCtcXWrR3Mlqj5p0p",
      "authorship_tag": "ABX9TyPBYoq/a/SY1ruCi6GqZ62l",
      "include_colab_link": true
    },
    "kernelspec": {
      "name": "python3",
      "display_name": "Python 3"
    },
    "language_info": {
      "name": "python"
    }
  },
  "cells": [
    {
      "cell_type": "markdown",
      "metadata": {
        "id": "view-in-github",
        "colab_type": "text"
      },
      "source": [
        "<a href=\"https://colab.research.google.com/github/Gauravkumarlokhande/Gauravkumarlokhande/blob/main/Random_Forest_user_input_sample_model.ipynb\" target=\"_parent\"><img src=\"https://colab.research.google.com/assets/colab-badge.svg\" alt=\"Open In Colab\"/></a>"
      ]
    },
    {
      "cell_type": "code",
      "execution_count": 1,
      "metadata": {
        "id": "fm2L0_mLGzxp"
      },
      "outputs": [],
      "source": [
        "import pandas as pd\n",
        "import warnings\n",
        "warnings.filterwarnings('ignore')"
      ]
    },
    {
      "cell_type": "code",
      "source": [
        "data=pd.read_csv('/content/drive/MyDrive/Red Wine Quality.csv')"
      ],
      "metadata": {
        "id": "2ZVKfgk5G3ED"
      },
      "execution_count": 3,
      "outputs": []
    },
    {
      "cell_type": "code",
      "source": [
        "def change(value):\n",
        "  if value<=4:\n",
        "    return 0\n",
        "  else:\n",
        "    return 1"
      ],
      "metadata": {
        "id": "NjjCQ9nMG3Kn"
      },
      "execution_count": 4,
      "outputs": []
    },
    {
      "cell_type": "code",
      "source": [
        "data['quality']=data['quality'].apply(change)"
      ],
      "metadata": {
        "id": "iIL5JjeSG3SB"
      },
      "execution_count": 5,
      "outputs": []
    },
    {
      "cell_type": "code",
      "source": [
        "dept=str(input('Please enter the name of your dependent variable (same as given in the data): '))\n",
        "y=data[dept]\n",
        "x=data.drop(columns=[dept])\n",
        "\n",
        "test=float(input('please select the size for testing (should be a decimal between 0 and 1): '))\n",
        "state=int(input('please specify the random state: '))\n",
        "import random\n",
        "random.seed(10)\n",
        "from sklearn.model_selection import train_test_split as tst\n",
        "x_train,x_test,y_train,y_test=tst(x,y,random_state=state,test_size=test)\n",
        "print('----------------------------------------------------------------------------------------------')\n",
        "print('shape of x_train= {}'.format(x_train.shape))\n",
        "print('shape of x_test= {}'.format(x_test.shape))\n",
        "print('shape of y_train= {}'.format(y_train.shape))\n",
        "print('shape of y_test= {}'.format(y_test.shape))\n",
        "print('----------------------------------------------------------------------------------------------')\n",
        "\n",
        "choice=str(input('Do you want to scale the data (yes or no): '))\n",
        "if choice=='yes':\n",
        "    from sklearn.preprocessing import StandardScaler as STD\n",
        "    st=STD()\n",
        "    x_train=st.fit_transform(x_train)\n",
        "    x_test=st.fit_transform(x_test)\n",
        "else:\n",
        "    print('You have choosen not to scale the data')\n",
        "print('-----------------------------------------------------------------------------------------------')\n",
        "from sklearn.ensemble  import RandomForestClassifier as RFC\n",
        "rf=RFC()\n",
        "rf.fit(x_train,y_train)\n",
        "print('------------------------------------------------------------------------------------------------')\n",
        "print('Accuracy score for training data: ', rf.score(x_train,y_train))\n",
        "print('Accuracy score for testing data: ',rf.score(x_test,y_test))\n",
        "\n",
        "y_pred_train=rf.predict(x_train)\n",
        "y_pred_test=rf.predict(x_test)\n",
        "\n",
        "from sklearn.metrics import classification_report, auc, roc_curve, confusion_matrix\n",
        "print('--------------------------------------------------------------------------------------------------')\n",
        "print('Classification report for training data')\n",
        "print(classification_report(y_train,y_pred_train))\n",
        "print('--------------------------------------------------------------------------------------------------')\n",
        "\n",
        "print('Classification report for testing data')\n",
        "print(classification_report(y_test,y_pred_test))\n",
        "print('--------------------------------------------------------------------------------------------------')\n",
        "\n",
        "print('Confusion matrix')\n",
        "print(confusion_matrix(y_test,y_pred_test))\n",
        "print('--------------------------------------------------------------------------------------------------')\n",
        "\n",
        "import matplotlib.pyplot as plt\n",
        "\n",
        "rf_fpr,rf_tpr,threshold=roc_curve(y_test,y_pred_test)\n",
        "rf_fpr_train,rf_tpr_train,threshold=roc_curve(y_train,y_pred_train)\n",
        "\n",
        "auc_rf=auc(rf_fpr,rf_tpr)\n",
        "auc_rf_train=auc(rf_fpr_train,rf_tpr_train)\n",
        "\n",
        "plt.figure(figsize=(10,5))\n",
        "plt.plot(rf_fpr,rf_tpr,marker='.',color='red')\n",
        "plt.plot(rf_fpr_train,rf_tpr_train,marker='*',color='blue')\n",
        "\n",
        "plt.xlabel('False Positive Rate---->')\n",
        "plt.ylabel('True Positive Rate---->')\n"
      ],
      "metadata": {
        "colab": {
          "base_uri": "https://localhost:8080/",
          "height": 1000
        },
        "id": "8Iyz09YfG3ha",
        "outputId": "b348e7cf-6aef-4e18-9520-1817fa433a4c"
      },
      "execution_count": 6,
      "outputs": [
        {
          "output_type": "stream",
          "name": "stdout",
          "text": [
            "Please enter the name of your dependent variable (same as given in the data): quality\n",
            "please select the size for testing (should be a decimal between 0 and 1): 0.3\n",
            "please specify the random state: 101\n",
            "----------------------------------------------------------------------------------------------\n",
            "shape of x_train= (1119, 11)\n",
            "shape of x_test= (480, 11)\n",
            "shape of y_train= (1119,)\n",
            "shape of y_test= (480,)\n",
            "----------------------------------------------------------------------------------------------\n",
            "Do you want to scale the data (yes or no): no\n",
            "You have choosen not to scale the data\n",
            "-----------------------------------------------------------------------------------------------\n",
            "------------------------------------------------------------------------------------------------\n",
            "Accuracy score for training data:  1.0\n",
            "Accuracy score for testing data:  0.9458333333333333\n",
            "--------------------------------------------------------------------------------------------------\n",
            "Classification report for training data\n",
            "              precision    recall  f1-score   support\n",
            "\n",
            "           0       1.00      1.00      1.00        39\n",
            "           1       1.00      1.00      1.00      1080\n",
            "\n",
            "    accuracy                           1.00      1119\n",
            "   macro avg       1.00      1.00      1.00      1119\n",
            "weighted avg       1.00      1.00      1.00      1119\n",
            "\n",
            "--------------------------------------------------------------------------------------------------\n",
            "Classification report for testing data\n",
            "              precision    recall  f1-score   support\n",
            "\n",
            "           0       0.25      0.04      0.07        24\n",
            "           1       0.95      0.99      0.97       456\n",
            "\n",
            "    accuracy                           0.95       480\n",
            "   macro avg       0.60      0.52      0.52       480\n",
            "weighted avg       0.92      0.95      0.93       480\n",
            "\n",
            "--------------------------------------------------------------------------------------------------\n",
            "Confusion matrix\n",
            "[[  1  23]\n",
            " [  3 453]]\n",
            "--------------------------------------------------------------------------------------------------\n"
          ]
        },
        {
          "output_type": "execute_result",
          "data": {
            "text/plain": [
              "Text(0, 0.5, 'True Positive Rate---->')"
            ]
          },
          "metadata": {},
          "execution_count": 6
        },
        {
          "output_type": "display_data",
          "data": {
            "text/plain": [
              "<Figure size 720x360 with 1 Axes>"
            ],
            "image/png": "[encoded data removed]"
          },
          "metadata": {
            "needs_background": "light"
          }
        }
      ]
    }
  ]
}