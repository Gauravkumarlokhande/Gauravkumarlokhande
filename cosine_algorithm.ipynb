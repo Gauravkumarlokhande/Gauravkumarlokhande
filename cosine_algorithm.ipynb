{
  "nbformat": 4,
  "nbformat_minor": 0,
  "metadata": {
    "colab": {
      "name": "cosine algorithm.ipynb",
      "provenance": [],
      "collapsed_sections": [],
      "authorship_tag": "ABX9TyPSeUj/BmxJ6tpqNMenNysL",
      "include_colab_link": true
    },
    "kernelspec": {
      "name": "python3",
      "display_name": "Python 3"
    },
    "language_info": {
      "name": "python"
    }
  },
  "cells": [
    {
      "cell_type": "markdown",
      "metadata": {
        "id": "view-in-github",
        "colab_type": "text"
      },
      "source": [
        "<a href=\"https://colab.research.google.com/github/Gauravkumarlokhande/Gauravkumarlokhande/blob/main/cosine_algorithm.ipynb\" target=\"_parent\"><img src=\"https://colab.research.google.com/assets/colab-badge.svg\" alt=\"Open In Colab\"/></a>"
      ]
    },
    {
      "cell_type": "code",
      "execution_count": 81,
      "metadata": {
        "id": "a_aal8oYgIBM"
      },
      "outputs": [],
      "source": [
        "import numpy as np\n",
        "import re\n",
        "import nltk\n",
        "import string\n",
        "import networkx as nx\n",
        "from nltk.cluster.util import cosine_distance # used to calculate the similarity between the snetences"
      ]
    },
    {
      "cell_type": "code",
      "source": [
        "nltk.download('punkt')\n",
        "nltk.download('stopwords')"
      ],
      "metadata": {
        "colab": {
          "base_uri": "https://localhost:8080/"
        },
        "id": "euWsce3knG4V",
        "outputId": "2cfa9df3-05dc-449c-a0a8-9f69d3b0efb3"
      },
      "execution_count": 82,
      "outputs": [
        {
          "output_type": "stream",
          "name": "stdout",
          "text": [
            "[nltk_data] Downloading package punkt to /root/nltk_data...\n",
            "[nltk_data]   Package punkt is already up-to-date!\n",
            "[nltk_data] Downloading package stopwords to /root/nltk_data...\n",
            "[nltk_data]   Package stopwords is already up-to-date!\n"
          ]
        },
        {
          "output_type": "execute_result",
          "data": {
            "text/plain": [
              "True"
            ]
          },
          "metadata": {},
          "execution_count": 82
        }
      ]
    },
    {
      "cell_type": "code",
      "source": [
        "stopwords=nltk.corpus.stopwords.words('english')"
      ],
      "metadata": {
        "id": "eyFf9cNvnmOr"
      },
      "execution_count": 83,
      "outputs": []
    },
    {
      "cell_type": "code",
      "source": [
        "print(stopwords)"
      ],
      "metadata": {
        "colab": {
          "base_uri": "https://localhost:8080/"
        },
        "id": "ycrBdqI3oCCO",
        "outputId": "b6c4b063-a612-4686-9ba8-980939ca3466"
      },
      "execution_count": 84,
      "outputs": [
        {
          "output_type": "stream",
          "name": "stdout",
          "text": [
            "['i', 'me', 'my', 'myself', 'we', 'our', 'ours', 'ourselves', 'you', \"you're\", \"you've\", \"you'll\", \"you'd\", 'your', 'yours', 'yourself', 'yourselves', 'he', 'him', 'his', 'himself', 'she', \"she's\", 'her', 'hers', 'herself', 'it', \"it's\", 'its', 'itself', 'they', 'them', 'their', 'theirs', 'themselves', 'what', 'which', 'who', 'whom', 'this', 'that', \"that'll\", 'these', 'those', 'am', 'is', 'are', 'was', 'were', 'be', 'been', 'being', 'have', 'has', 'had', 'having', 'do', 'does', 'did', 'doing', 'a', 'an', 'the', 'and', 'but', 'if', 'or', 'because', 'as', 'until', 'while', 'of', 'at', 'by', 'for', 'with', 'about', 'against', 'between', 'into', 'through', 'during', 'before', 'after', 'above', 'below', 'to', 'from', 'up', 'down', 'in', 'out', 'on', 'off', 'over', 'under', 'again', 'further', 'then', 'once', 'here', 'there', 'when', 'where', 'why', 'how', 'all', 'any', 'both', 'each', 'few', 'more', 'most', 'other', 'some', 'such', 'no', 'nor', 'not', 'only', 'own', 'same', 'so', 'than', 'too', 'very', 's', 't', 'can', 'will', 'just', 'don', \"don't\", 'should', \"should've\", 'now', 'd', 'll', 'm', 'o', 're', 've', 'y', 'ain', 'aren', \"aren't\", 'couldn', \"couldn't\", 'didn', \"didn't\", 'doesn', \"doesn't\", 'hadn', \"hadn't\", 'hasn', \"hasn't\", 'haven', \"haven't\", 'isn', \"isn't\", 'ma', 'mightn', \"mightn't\", 'mustn', \"mustn't\", 'needn', \"needn't\", 'shan', \"shan't\", 'shouldn', \"shouldn't\", 'wasn', \"wasn't\", 'weren', \"weren't\", 'won', \"won't\", 'wouldn', \"wouldn't\"]\n"
          ]
        }
      ]
    },
    {
      "cell_type": "code",
      "source": [
        "original = \"\"\"Artificial intelligence is human like intelligence machines.\n",
        "              It is the study of intelligent artificial agents.\n",
        "              Science and engineering to produce intelligent machines.\n",
        "              Solve problems and have intelligence.\n",
        "              Related to intelligent behavior.\n",
        "              Developing of reasoning machines.\n",
        "              Learn from mistakes and successes.\n",
        "              Artificial intelligence is related to reasing in everyday situations.\"\"\""
      ],
      "metadata": {
        "id": "ViabkUKcsE1x"
      },
      "execution_count": 85,
      "outputs": []
    },
    {
      "cell_type": "code",
      "source": [
        "def process(text):\n",
        "  formatted_text=text.lower()  # covert all the words in to lower case\n",
        "  tokens=[]  #create a empty list by name tokens\n",
        "  for token in nltk.word_tokenize(formatted_text):\n",
        "    tokens.append(token)     # append each tokenized word in the empty list\n",
        "  tokens=[word for word in tokens if word not in stopwords and word not in string.punctuation]   #we remove the stopwords and punctuation mark\n",
        "  formatted_text=\" \".join(element for element in tokens) # join all the words in to a from of sentence which are in a form of list\n",
        "  return formatted_text"
      ],
      "metadata": {
        "id": "Pdr7M2a5oD9E"
      },
      "execution_count": 86,
      "outputs": []
    },
    {
      "cell_type": "code",
      "source": [
        ""
      ],
      "metadata": {
        "id": "Lzc0xU9Dstql"
      },
      "execution_count": 86,
      "outputs": []
    },
    {
      "cell_type": "markdown",
      "source": [
        "# **Function to calculate similarity betwen the sentences**"
      ],
      "metadata": {
        "id": "a2pEbhiYtThM"
      }
    },
    {
      "cell_type": "code",
      "source": [
        "original_sentences=[sentence for sentence in nltk.sent_tokenize(original)]\n",
        "original_sentences"
      ],
      "metadata": {
        "colab": {
          "base_uri": "https://localhost:8080/"
        },
        "id": "1kRQvWPBtaHL",
        "outputId": "568cb35a-34b3-47d5-a4f0-6d2d3c8d9b93"
      },
      "execution_count": 87,
      "outputs": [
        {
          "output_type": "execute_result",
          "data": {
            "text/plain": [
              "['Artificial intelligence is human like intelligence machines.',\n",
              " 'It is the study of intelligent artificial agents.',\n",
              " 'Science and engineering to produce intelligent machines.',\n",
              " 'Solve problems and have intelligence.',\n",
              " 'Related to intelligent behavior.',\n",
              " 'Developing of reasoning machines.',\n",
              " 'Learn from mistakes and successes.',\n",
              " 'Artificial intelligence is related to reasing in everyday situations.']"
            ]
          },
          "metadata": {},
          "execution_count": 87
        }
      ]
    },
    {
      "cell_type": "markdown",
      "source": [
        "**now we need to process these sentence by tokenizing each word and remove stop **"
      ],
      "metadata": {
        "id": "QfmQu-L4PIBO"
      }
    },
    {
      "cell_type": "code",
      "source": [
        "formatted_sentences=[process(original_sentence) for original_sentence in original_sentences]\n",
        "formatted_sentences"
      ],
      "metadata": {
        "colab": {
          "base_uri": "https://localhost:8080/"
        },
        "id": "bVgsERY7O5er",
        "outputId": "3c6d51bd-1478-469e-ab2b-1e0975d379ee"
      },
      "execution_count": 88,
      "outputs": [
        {
          "output_type": "execute_result",
          "data": {
            "text/plain": [
              "['artificial intelligence human like intelligence machines',\n",
              " 'study intelligent artificial agents',\n",
              " 'science engineering produce intelligent machines',\n",
              " 'solve problems intelligence',\n",
              " 'related intelligent behavior',\n",
              " 'developing reasoning machines',\n",
              " 'learn mistakes successes',\n",
              " 'artificial intelligence related reasing everyday situations']"
            ]
          },
          "metadata": {},
          "execution_count": 88
        }
      ]
    },
    {
      "cell_type": "code",
      "source": [
        ""
      ],
      "metadata": {
        "id": "VW9HC3HcPsWy"
      },
      "execution_count": 88,
      "outputs": []
    },
    {
      "cell_type": "markdown",
      "source": [
        "now we calculate sentence similarity"
      ],
      "metadata": {
        "id": "kh0xnoebQOoT"
      }
    },
    {
      "cell_type": "code",
      "source": [
        "def calculate_sentence_similarity(sentence1,sentence2):    # for checking similarity between two sentences\n",
        "  words1=[word for word in nltk.word_tokenize(sentence1)]  # word tokens for sentence 1\n",
        "  words2=[word for word in nltk.word_tokenize(sentence2)]\n",
        "  #print(words1)\n",
        "  #print(words2)\n",
        "\n",
        "  all_words=list(set(words1+words2))\n",
        "  #print(all_words)\n",
        "\n",
        "  vector1=[0]*len(all_words)  #vector for first sentence # this vector contains only zeroes for all the words\n",
        "  vector2=[0]*len(all_words)   # vector for second sentence\n",
        "\n",
        "  #print(vector1)\n",
        "  #print(vector2)\n",
        "\n",
        "  for word in words1:\n",
        "    #print(word)\n",
        "    vector1[all_words.index(word)]+=1   #acces the index of words in vector1\n",
        "  for word in words2:\n",
        "    vector2[all_words.index(word)]+=1 \n",
        "\n",
        "  #print(vector1)\n",
        "  #print(vector2)\n",
        "\n",
        "  return 1-cosine_distance(vector1,vector2)\n"
      ],
      "metadata": {
        "id": "j4nBJzX7RyuI"
      },
      "execution_count": 89,
      "outputs": []
    },
    {
      "cell_type": "code",
      "source": [
        "calculate_sentence_similarity(formatted_sentences[0],formatted_sentences[3])  # checking similarity between two sentences # we can change the sentence index \n",
        "#higher the value more similar the sentence is # it lies between 0 and 1"
      ],
      "metadata": {
        "colab": {
          "base_uri": "https://localhost:8080/"
        },
        "id": "SCEw4kNYTzK6",
        "outputId": "ad7bc1b5-6d1b-422c-a2e8-9d88a2ad2319"
      },
      "execution_count": 90,
      "outputs": [
        {
          "output_type": "execute_result",
          "data": {
            "text/plain": [
              "0.4082482904638629"
            ]
          },
          "metadata": {},
          "execution_count": 90
        }
      ]
    },
    {
      "cell_type": "markdown",
      "source": [
        "# **Function to create similarity matrix**"
      ],
      "metadata": {
        "id": "s8WUMUEbxR6G"
      }
    },
    {
      "cell_type": "code",
      "source": [
        "def calculate_similarity_matrix(sentences):\n",
        "  similarity_matrix=np.zeros((len(sentences),len(sentences)))   # there are 8 sentences hence the matrix will beof 8 *8\n",
        "  #print(similarity_matrix)\n",
        "  for i in range(len(sentences)):\n",
        "    for j in range(len(sentences)):\n",
        "      if i==j:   # we are not going to calculate similarity for same indexes as e.g. [1,1]  [2,2]\n",
        "        continue\n",
        "      similarity_matrix[i][j]=calculate_sentence_similarity(sentences[i],sentences[j])\n",
        "      return similarity_matrix\n",
        "               \n",
        "\n"
      ],
      "metadata": {
        "id": "kTgBTZcXxX3D"
      },
      "execution_count": 103,
      "outputs": []
    },
    {
      "cell_type": "code",
      "source": [
        "calculate_similarity_matrix(formatted_sentences)  # first element of the matrix [1,1] is the similarity between the first sentence again \n",
        "# the element [1,2] is the similarity between the first sentence and second sentence"
      ],
      "metadata": {
        "colab": {
          "base_uri": "https://localhost:8080/"
        },
        "id": "Kqu1h2_uyFYJ",
        "outputId": "4505453b-92b5-4cba-bca2-e9ad14449821"
      },
      "execution_count": 104,
      "outputs": [
        {
          "output_type": "execute_result",
          "data": {
            "text/plain": [
              "array([[0.       , 0.1767767, 0.       , 0.       , 0.       , 0.       ,\n",
              "        0.       , 0.       ],\n",
              "       [0.       , 0.       , 0.       , 0.       , 0.       , 0.       ,\n",
              "        0.       , 0.       ],\n",
              "       [0.       , 0.       , 0.       , 0.       , 0.       , 0.       ,\n",
              "        0.       , 0.       ],\n",
              "       [0.       , 0.       , 0.       , 0.       , 0.       , 0.       ,\n",
              "        0.       , 0.       ],\n",
              "       [0.       , 0.       , 0.       , 0.       , 0.       , 0.       ,\n",
              "        0.       , 0.       ],\n",
              "       [0.       , 0.       , 0.       , 0.       , 0.       , 0.       ,\n",
              "        0.       , 0.       ],\n",
              "       [0.       , 0.       , 0.       , 0.       , 0.       , 0.       ,\n",
              "        0.       , 0.       ],\n",
              "       [0.       , 0.       , 0.       , 0.       , 0.       , 0.       ,\n",
              "        0.       , 0.       ]])"
            ]
          },
          "metadata": {},
          "execution_count": 104
        }
      ]
    },
    {
      "cell_type": "markdown",
      "source": [
        "# ***Function to summarize sentences***"
      ],
      "metadata": {
        "id": "tIgY9jNP65a1"
      }
    },
    {
      "cell_type": "code",
      "source": [
        "def summarize(text,number_of_sentences):\n",
        "  original_sentences=[sentence for sentence in nltk.sent_tokenize(text)]\n",
        "  formatted_sentences=[process(original_sentence) for original_sentence in original_sentences]\n",
        "  similarity_matrix=calculate_similarity_matrix(formatted_sentences)\n",
        "  #print(similarity_matrix)\n",
        "\n",
        "  similarity_graph=nx.from_numpy_array(similarity_matrix)\n",
        "  #print(similarity_graph.nodes)\n",
        "  #print(similarity_graph.edges)\n",
        "\n",
        "  scores=nx.pagerank(similarity_graph)\n",
        "  #print(scores)   # this will give the score for each sentence\n",
        "  ordered_scores=sorted(((scores[i],score)for i,score in enumerate(original_sentences)),reverse=True)  # will return the score and tthe sentence\n",
        "  #print(ordered_scores)\n",
        "\n",
        "  best_sentences=[]\n",
        "  for sentence in range(number_of_sentences):\n",
        "    best_sentences.append(ordered_scores[sentence][1])\n",
        "  return original_sentences, best_sentences, ordered_scores"
      ],
      "metadata": {
        "id": "G28PuFfQyOKC"
      },
      "execution_count": 115,
      "outputs": []
    },
    {
      "cell_type": "code",
      "source": [
        "original_sentences, best_sentences, ordered_scores=summarize(original,3)"
      ],
      "metadata": {
        "id": "QC7UrRgJ8HQ9"
      },
      "execution_count": 116,
      "outputs": []
    },
    {
      "cell_type": "markdown",
      "source": [
        "here (0,1) means sentence with index 0 is related to sentence 1 with a score of 17% according to the similarity matrix"
      ],
      "metadata": {
        "id": "gm-Z9CHQ-Ryg"
      }
    },
    {
      "cell_type": "code",
      "source": [
        "original_sentences, best_sentences, ordered_scores"
      ],
      "metadata": {
        "id": "nt41HraN8dN4",
        "colab": {
          "base_uri": "https://localhost:8080/"
        },
        "outputId": "b6671426-2be5-4d6a-899f-14d2e0cdfd89"
      },
      "execution_count": 117,
      "outputs": [
        {
          "output_type": "execute_result",
          "data": {
            "text/plain": [
              "(['Artificial intelligence is human like intelligence machines.',\n",
              "  'It is the study of intelligent artificial agents.',\n",
              "  'Science and engineering to produce intelligent machines.',\n",
              "  'Solve problems and have intelligence.',\n",
              "  'Related to intelligent behavior.',\n",
              "  'Developing of reasoning machines.',\n",
              "  'Learn from mistakes and successes.',\n",
              "  'Artificial intelligence is related to reasing in everyday situations.'],\n",
              " ['It is the study of intelligent artificial agents.',\n",
              "  'Artificial intelligence is human like intelligence machines.',\n",
              "  'Solve problems and have intelligence.'],\n",
              " [(0.3448247411764471, 'It is the study of intelligent artificial agents.'),\n",
              "  (0.3448247411764471,\n",
              "   'Artificial intelligence is human like intelligence machines.'),\n",
              "  (0.05172508627451761, 'Solve problems and have intelligence.'),\n",
              "  (0.05172508627451761,\n",
              "   'Science and engineering to produce intelligent machines.'),\n",
              "  (0.05172508627451761, 'Related to intelligent behavior.'),\n",
              "  (0.05172508627451761, 'Learn from mistakes and successes.'),\n",
              "  (0.05172508627451761, 'Developing of reasoning machines.'),\n",
              "  (0.05172508627451761,\n",
              "   'Artificial intelligence is related to reasing in everyday situations.')])"
            ]
          },
          "metadata": {},
          "execution_count": 117
        }
      ]
    },
    {
      "cell_type": "code",
      "source": [
        "from IPython.core.display import HTML"
      ],
      "metadata": {
        "id": "DlirfZifNmYQ"
      },
      "execution_count": 118,
      "outputs": []
    },
    {
      "cell_type": "code",
      "source": [
        "def visualize(title,sentence_list,best_sentences):\n",
        "  text=''\n",
        "  display(HTML(f'<h2>summary-{title}</h2>'))\n",
        "  for sentence in sentence_list:\n",
        "    if sentence in best_sentences:\n",
        "      text+=''+sentence.replace(sentence,f\"<mark>{sentence}</mark>\")\n",
        "    else:\n",
        "      text+=''+sentence\n",
        "  display(HTML(f\"\"\"{text}\"\"\"))"
      ],
      "metadata": {
        "id": "M6pP5VZPNTc_"
      },
      "execution_count": 127,
      "outputs": []
    },
    {
      "cell_type": "code",
      "source": [
        "visualize('Artificial intelligence',original,best_sentences)"
      ],
      "metadata": {
        "colab": {
          "base_uri": "https://localhost:8080/",
          "height": 99
        },
        "id": "8fHwDlQTNq0K",
        "outputId": "12adde27-5271-412f-e416-5d41aeec3eb6"
      },
      "execution_count": 128,
      "outputs": [
        {
          "output_type": "display_data",
          "data": {
            "text/html": [
              "<h2>summary-Artificial intelligence</h2>"
            ],
            "text/plain": [
              "<IPython.core.display.HTML object>"
            ]
          },
          "metadata": {}
        },
        {
          "output_type": "display_data",
          "data": {
            "text/html": [
              "Artificial intelligence is human like intelligence machines.\n",
              "              It is the study of intelligent artificial agents.\n",
              "              Science and engineering to produce intelligent machines.\n",
              "              Solve problems and have intelligence.\n",
              "              Related to intelligent behavior.\n",
              "              Developing of reasoning machines.\n",
              "              Learn from mistakes and successes.\n",
              "              Artificial intelligence is related to reasing in everyday situations."
            ],
            "text/plain": [
              "<IPython.core.display.HTML object>"
            ]
          },
          "metadata": {}
        }
      ]
    },
    {
      "cell_type": "code",
      "source": [
        ""
      ],
      "metadata": {
        "id": "2pu4EkgQO8Lp"
      },
      "execution_count": null,
      "outputs": []
    }
  ]
}