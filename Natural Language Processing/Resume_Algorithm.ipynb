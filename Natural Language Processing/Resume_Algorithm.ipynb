{
  "nbformat": 4,
  "nbformat_minor": 0,
  "metadata": {
    "colab": {
      "name": "Resume Algorithm.ipynb",
      "provenance": [],
      "collapsed_sections": [],
      "mount_file_id": "1_fSQ9dG9XJ1GYrWa86_P3UOJhAiZu6ls",
      "authorship_tag": "ABX9TyNpA+r8siSWZhNZrP3jFKU9",
      "include_colab_link": true
    },
    "kernelspec": {
      "name": "python3",
      "display_name": "Python 3"
    },
    "language_info": {
      "name": "python"
    }
  },
  "cells": [
    {
      "cell_type": "markdown",
      "metadata": {
        "id": "view-in-github",
        "colab_type": "text"
      },
      "source": [
        "<a href=\"https://colab.research.google.com/github/Gauravkumarlokhande/Gauravkumarlokhande/blob/main/Resume_Algorithm.ipynb\" target=\"_parent\"><img src=\"https://colab.research.google.com/assets/colab-badge.svg\" alt=\"Open In Colab\"/></a>"
      ]
    },
    {
      "cell_type": "code",
      "execution_count": 1,
      "metadata": {
        "id": "AD43JglsVb61",
        "colab": {
          "base_uri": "https://localhost:8080/"
        },
        "outputId": "229dc17f-6fca-4a7f-c866-b5433bef4536"
      },
      "outputs": [
        {
          "output_type": "stream",
          "name": "stdout",
          "text": [
            "Collecting PyMuPDF\n",
            "  Downloading PyMuPDF-1.19.6-cp37-cp37m-manylinux_2_17_x86_64.manylinux2014_x86_64.whl (8.8 MB)\n",
            "\u001b[K     |████████████████████████████████| 8.8 MB 2.6 MB/s \n",
            "\u001b[?25hInstalling collected packages: PyMuPDF\n",
            "Successfully installed PyMuPDF-1.19.6\n"
          ]
        }
      ],
      "source": [
        "!pip install PyMuPDF"
      ]
    },
    {
      "cell_type": "code",
      "source": [
        "import spacy\n",
        "import pickle\n",
        "import random\n"
      ],
      "metadata": {
        "id": "lV7MYw0SbOcF"
      },
      "execution_count": 2,
      "outputs": []
    },
    {
      "cell_type": "code",
      "source": [
        "train_data = pickle.load(open('/content/drive/MyDrive/train_data.pkl', 'rb'))\n",
        "train_data[0]"
      ],
      "metadata": {
        "colab": {
          "base_uri": "https://localhost:8080/"
        },
        "id": "PppIZl2bbpdq",
        "outputId": "b64d199a-0b1d-4843-c85d-7521fe5f8f11"
      },
      "execution_count": 3,
      "outputs": [
        {
          "output_type": "execute_result",
          "data": {
            "text/plain": [
              "('Govardhana K Senior Software Engineer  Bengaluru, Karnataka, Karnataka - Email me on Indeed: indeed.com/r/Govardhana-K/ b2de315d95905b68  Total IT experience 5 Years 6 Months Cloud Lending Solutions INC 4 Month • Salesforce Developer Oracle 5 Years 2 Month • Core Java Developer Languages Core Java, Go Lang Oracle PL-SQL programming, Sales Force Developer with APEX.  Designations & Promotions  Willing to relocate: Anywhere  WORK EXPERIENCE  Senior Software Engineer  Cloud Lending Solutions -  Bangalore, Karnataka -  January 2018 to Present  Present  Senior Consultant  Oracle -  Bangalore, Karnataka -  November 2016 to December 2017  Staff Consultant  Oracle -  Bangalore, Karnataka -  January 2014 to October 2016  Associate Consultant  Oracle -  Bangalore, Karnataka -  November 2012 to December 2013  EDUCATION  B.E in Computer Science Engineering  Adithya Institute of Technology -  Tamil Nadu  September 2008 to June 2012  https://www.indeed.com/r/Govardhana-K/b2de315d95905b68?isid=rex-download&ikw=download-top&co=IN https://www.indeed.com/r/Govardhana-K/b2de315d95905b68?isid=rex-download&ikw=download-top&co=IN   SKILLS  APEX. (Less than 1 year), Data Structures (3 years), FLEXCUBE (5 years), Oracle (5 years), Algorithms (3 years)  LINKS  https://www.linkedin.com/in/govardhana-k-61024944/  ADDITIONAL INFORMATION  Technical Proficiency:  Languages: Core Java, Go Lang, Data Structures & Algorithms, Oracle PL-SQL programming, Sales Force with APEX. Tools: RADTool, Jdeveloper, NetBeans, Eclipse, SQL developer, PL/SQL Developer, WinSCP, Putty Web Technologies: JavaScript, XML, HTML, Webservice  Operating Systems: Linux, Windows Version control system SVN & Git-Hub Databases: Oracle Middleware: Web logic, OC4J Product FLEXCUBE: Oracle FLEXCUBE Versions 10.x, 11.x and 12.x  https://www.linkedin.com/in/govardhana-k-61024944/',\n",
              " {'entities': [(1749, 1755, 'Companies worked at'),\n",
              "   (1696, 1702, 'Companies worked at'),\n",
              "   (1417, 1423, 'Companies worked at'),\n",
              "   (1356, 1793, 'Skills'),\n",
              "   (1209, 1215, 'Companies worked at'),\n",
              "   (1136, 1248, 'Skills'),\n",
              "   (928, 932, 'Graduation Year'),\n",
              "   (858, 889, 'College Name'),\n",
              "   (821, 856, 'Degree'),\n",
              "   (787, 791, 'Graduation Year'),\n",
              "   (744, 750, 'Companies worked at'),\n",
              "   (722, 742, 'Designation'),\n",
              "   (658, 664, 'Companies worked at'),\n",
              "   (640, 656, 'Designation'),\n",
              "   (574, 580, 'Companies worked at'),\n",
              "   (555, 573, 'Designation'),\n",
              "   (470, 493, 'Companies worked at'),\n",
              "   (444, 469, 'Designation'),\n",
              "   (308, 314, 'Companies worked at'),\n",
              "   (234, 240, 'Companies worked at'),\n",
              "   (175, 198, 'Companies worked at'),\n",
              "   (93, 137, 'Email Address'),\n",
              "   (39, 48, 'Location'),\n",
              "   (13, 38, 'Designation'),\n",
              "   (0, 12, 'Name')]})"
            ]
          },
          "metadata": {},
          "execution_count": 3
        }
      ]
    },
    {
      "cell_type": "code",
      "source": [
        "nlp = spacy.blank('en')\n",
        "def train_model(train_data):\n",
        "\n",
        "    if 'ner' not in nlp.pipe_names:\n",
        "        ner = nlp.create_pipe('ner')\n",
        "        nlp.add_pipe(ner, last = True)\n",
        "    \n",
        "    for _, annotation in train_data:\n",
        "        for ent in annotation['entities']:\n",
        "            ner.add_label(ent[2])\n",
        "            \n",
        "    \n",
        "    other_pipes = [pipe for pipe in nlp.pipe_names if pipe != 'ner']\n",
        "    with nlp.disable_pipes(*other_pipes):  # only train NER\n",
        "        optimizer = nlp.begin_training()\n",
        "        for itn in range(10):\n",
        "            print(\"Statring iteration \" + str(itn))\n",
        "            random.shuffle(train_data)\n",
        "            losses = {}\n",
        "            index = 0\n",
        "            for text, annotations in train_data:\n",
        "                try:\n",
        "                    nlp.update(\n",
        "                        [text],  # batch of texts\n",
        "                        [annotations],  # batch of annotations\n",
        "                        drop=0.2,  # dropout - make it harder to memorise data\n",
        "                        sgd=optimizer,  # callable to update weights\n",
        "                        losses=losses)\n",
        "                except Exception as e:\n",
        "                    pass\n",
        "                \n",
        "            print(losses)\n",
        "train_model(train_data)"
      ],
      "metadata": {
        "colab": {
          "base_uri": "https://localhost:8080/"
        },
        "id": "oiq810isbiWe",
        "outputId": "a25039c5-a285-4ac8-fe96-e181aacd8888"
      },
      "execution_count": 4,
      "outputs": [
        {
          "output_type": "stream",
          "name": "stdout",
          "text": [
            "Statring iteration 0\n",
            "{'ner': 17276.82220074655}\n",
            "Statring iteration 1\n",
            "{'ner': 9246.499377216209}\n",
            "Statring iteration 2\n",
            "{'ner': 7698.960582776066}\n",
            "Statring iteration 3\n",
            "{'ner': 6237.208471099683}\n",
            "Statring iteration 4\n",
            "{'ner': 6131.198220630572}\n",
            "Statring iteration 5\n",
            "{'ner': 5126.4004284085995}\n",
            "Statring iteration 6\n",
            "{'ner': 7181.0042204089605}\n",
            "Statring iteration 7\n",
            "{'ner': 5424.287690047956}\n",
            "Statring iteration 8\n",
            "{'ner': 4877.362547246681}\n",
            "Statring iteration 9\n",
            "{'ner': 4842.039770016572}\n"
          ]
        }
      ]
    },
    {
      "cell_type": "code",
      "source": [
        "nlp.to_disk('nlp_model')"
      ],
      "metadata": {
        "id": "l9N4R5K8cLto"
      },
      "execution_count": 10,
      "outputs": []
    },
    {
      "cell_type": "code",
      "source": [
        "nlp_model = spacy.load('nlp_model')"
      ],
      "metadata": {
        "id": "NctPKcWscNjx"
      },
      "execution_count": 11,
      "outputs": []
    },
    {
      "cell_type": "code",
      "source": [
        "import sys, fitz\n",
        "import glob\n",
        "fname = glob.glob('/content/drive/MyDrive/resume ai alpha/*')\n",
        "for i in fname:\n",
        "  doc = fitz.open(i)\n",
        "  text = \"\"\n",
        "  for page in doc:\n",
        "    text = text + str(page.getText())\n",
        "  tx = \" \".join(text.split('\\n'))\n",
        "  #print(tx)\n",
        "  #print('##########')\n",
        "  import nltk\n",
        "  doc = nlp_model(tx)\n",
        "  for ent in doc.ents:\n",
        "    print(f'{ent.label_.upper():{30}}- {ent.text}')\n",
        "  print('##############################################################################################################33')\n"
      ],
      "metadata": {
        "colab": {
          "base_uri": "https://localhost:8080/"
        },
        "id": "UZO9NkdJZbT0",
        "outputId": "40c20c91-fa43-4e99-f433-4eb349a9611a"
      },
      "execution_count": 26,
      "outputs": [
        {
          "output_type": "stream",
          "name": "stderr",
          "text": [
            "Deprecation: 'getText' removed from class 'Page' after v1.19 - use 'get_text'.\n"
          ]
        },
        {
          "output_type": "stream",
          "name": "stdout",
          "text": [
            "DEGREE                        - Objective\n",
            "DESIGNATION                   - Associate Statistician\n",
            "DEGREE                        - B.Sc (Statistics)\n",
            "COLLEGE NAME                  - Fergusson College\n",
            "GRADUATION YEAR               - 2016\n",
            "DEGREE                        - SSC\n",
            "COLLEGE NAME                  - Camp Education Society\n",
            "GRADUATION YEAR               - 2013\n",
            "DEGREE                        - 14\n",
            "SKILLS                        - Decision tree, logistic regression, random forest, bootstrapping, bagging, boosting, support vector machine,  principal component analysis, clustering, model fitting, forecasting, regression analysis, time series  modelling,clinical trials    Interpersonal SkillsO Objective bjective  • Project management  • Strong decision maker  • Complex problem solver  • Innovative\n",
            "LOCATION                      - Kerala\n",
            "EMAIL ADDRESS                 - 2020\n",
            "EMAIL ADDRESS                 - 2019\n",
            "LOCATION                      - Pune\n",
            "LOCATION                      - SPPU\n",
            "##############################################################################################################33\n",
            "NAME                          - Gayatri Babasaheb\n",
            "LOCATION                      - Karle\n",
            "DEGREE                        - 9975735599\n",
            "LOCATION                      - Nashik\n",
            "DEGREE                        - github.com/GayatriKarle/GayatriKarle\n",
            "DEGREE                        - M.Sc Statistics\n",
            "COLLEGE NAME                  - M.V.P. Samaj's K.R.T Arts B.H Commerce A.M Science College, Nashik\n",
            "DEGREE                        - Nashik\n",
            "DEGREE                        - B.Sc Statistics\n",
            "COLLEGE NAME                  - M.V.P. Samaj's K.R.T Arts B.H Commerce A.M Science College, Nashik\n",
            "DEGREE                        - H.S.C\n",
            "COLLEGE NAME                  - M.V.P Arts, Commerce & Science college, tryambakeshwar\n",
            "DESIGNATION                   - Data Analysis Internship\n",
            "DESIGNATION                   - Statsly Analytics\n",
            "SKILLS                        - PYTHON  Machine Learning  R\n",
            "COLLEGE NAME                  - SQL  Data Analysis\n",
            "DEGREE                        - Consistent\n",
            "COLLEGE NAME                  - Adaptability\n",
            "COLLEGE NAME                  - Self Motivated\n",
            "DEGREE                        - Basics of programming in python. Object Oriented Programming. Connecting to SQLite Database.\n",
            "DEGREE                        - Gardening\n",
            "COLLEGE NAME                  - Cooking\n",
            "COLLEGE NAME                  - Achievements/Tasks\n",
            "##############################################################################################################33\n",
            "NAME                          - EDUCATION Master\n",
            "DESIGNATION                   - of Science (Statistics)\n",
            "COLLEGE NAME                  - New Arts Commerce and Science College\n",
            "DEGREE                        - Bachelor of Science (Statistics)\n",
            "GRADUATION YEAR               - 2020\n",
            "DEGREE                        - 2017\n",
            "SKILLS                        - ACHIEVEMENTS & AWARDS\n",
            "COLLEGE NAME                  - Represented college and secured consolation prize in the ‘State Level Big Data Analytics Championship’, 2020.\n",
            "GRADUATION YEAR               - 2018\n",
            "##############################################################################################################33\n",
            "NAME                          - Omkar Deshmukh\n",
            "LOCATION                      - Pune\n",
            "LOCATION                      - Pune\n",
            "LOCATION                      - Pune\n",
            "##############################################################################################################33\n",
            "##############################################################################################################33\n",
            "NAME                          - Nikita Gaikwad\n",
            "LOCATION                      - Pytorch\n",
            "LOCATION                      - Nashik\n",
            "LOCATION                      - Nashik\n",
            "DEGREE                        - Bachelor of Science in Statistics K.R.T.Arts,B.H.Commerce & A.M.Science College,Nashik\n",
            "##############################################################################################################33\n",
            "##############################################################################################################33\n",
            "NAME                          - Anushrav kumar\n",
            "LOCATION                      - Ravet\n",
            "LOCATION                      - Pune\n",
            "SKILLS                        - DATA ANALYSIS USING TABLEU\n",
            "DEGREE                        - R\n",
            "COLLEGE NAME                  - Statistical Data Analysis\n",
            "DEGREE                        - Microsoft excel\n",
            "DEGREE                        - RPA\n",
            "SKILLS                        - Data Mining\n",
            "DEGREE                        - English\n",
            "COLLEGE NAME                  - Full Professional Proﬁciency\n",
            "COLLEGE NAME                  - Sanaskrit\n",
            "DEGREE                        - Bhojpuri\n",
            "COLLEGE NAME                  - Politics and Folk Music\n",
            "DEGREE                        - BSc Data Science\n",
            "COLLEGE NAME                  - CBSE , LOYOLA HIGH SCHOOL\n",
            "DESIGNATION                   - Data Analysis Intern\n",
            "DESIGNATION                   - Vchip Technology\n",
            "DEGREE                        - Pune\n",
            "COLLEGE NAME                  - UBINDIA NEWS\n",
            "##############################################################################################################33\n",
            "NAME                          - PROFILE pursuing\n",
            "DESIGNATION                   - Bsc\n",
            "##############################################################################################################33\n",
            "##############################################################################################################33\n",
            "NAME                          - ABOUT ME I was always passionate about computer, computer softwares and coding languages. As soon as I heard about data science and its career opportunities I was curious and excited to persue career in data science as it budding career which is growing more and more day by day. I also have a keen intererest in stats and mathematics which will help me in pursuing this career, as both stats and technical knowledge is needed. CERTIFICATIONS & EXTRAS AWARDS  \n",
            "DESIGNATION                   - BOMBLE ASPIRING DATA SCIENTIST\n",
            "LOCATION                      - Pune\n",
            "DEGREE                        - Bsc. Data Science 2021\n",
            "##############################################################################################################33\n",
            "NAME                          - Dhruv Gaur\n",
            "DESIGNATION                   - SUMMARY STATEMENT\n",
            "DEGREE                        - Xth\n",
            "COLLEGE NAME                  - from Bhai Paramand Vidya Mandir\n",
            "COLLEGE NAME                  - XIIth from Bhai Paramand Vidya Mandir\n",
            "SKILLS                        - Good at computer     MS Word    MS Excel    MS Powerpoint  Coding languages  \n",
            "COLLEGE NAME                  - SQL      \n",
            "GRADUATION YEAR               - 2018\n",
            "##############################################################################################################33\n",
            "##############################################################################################################33\n",
            "NAME                          - HARDIK PATEL    Address: 1/305,306, Indraprasth CHS, Andheri East,  Mumbai-400093. Contact number: +91 7045227625  Email ID: hardik.patel17032000@gmail.com  DoB: 17th March,2000.        CAREER OBJECTIVE    Seeking for a job with a dynamic and growth oriented organization to build a long-term career by applying the skills and learnings  from my Bachelor of Science in Mathematics degree and Master of Science in Data Science degree ( Expected Completion 2023 ).    ACADEMIC QUALIFICATIONS    EXAMINATION  BOARD / UNIVERSITY   YEAR OF PASSING  SGPA / PERCENTAGE  M.Sc. Data Science Sem 1   Symbiosis Skills And  Professional University  2022  83.75%  B.Sc. Mathematics  Mumbai University  \n",
            "DEGREE                        - 2021\n",
            "DEGREE                        - 6.865\n",
            "COLLEGE NAME                  - Maharashtra Board\n",
            "GRADUATION YEAR               - 2015\n",
            "SKILLS                        - Python , SQL , DBMS     TOOLS     Mongo DB , R-Studio , MySql Workbench , Jupyter Notebook , Power BI\n",
            "COLLEGE NAME                  - APPLICATIONS\n",
            "DEGREE                        - Organised\n",
            "COLLEGE NAME                  - Mithimatica’20\n",
            "SKILLS                        - Painting, sketching, playing indoor games, solving puzzles\n",
            "SKILLS                        - English (fluent)  •\n",
            "SKILLS                        - Hindi (fluent)\n",
            "COLLEGE NAME                  - Gujarati (fluent)\n",
            "SKILLS                        - Marathi (elementary)\n",
            "##############################################################################################################33\n",
            "NAME                          - Ankur Mishra\n",
            "LOCATION                      - Mumbai\n",
            "SKILLS                        - HTML&CSS  JAVA\n",
            "DEGREE                        - PHP\n",
            "COLLEGE NAME                  - JavaScript\n",
            "COLLEGE NAME                  - Python  Cloud Computing\n",
            "COLLEGE NAME                  - LANGUAGES\n",
            "COLLEGE NAME                  - Vloging\n",
            "DEGREE                        - Coding\n",
            "COLLEGE NAME                  - Sports\n",
            "DEGREE                        - High School\n",
            "COLLEGE NAME                  - Pt. Tejram Saraswati Vidya Mandir\n",
            "DEGREE                        - Intermediate\n",
            "COLLEGE NAME                  - Anandi Devi Saraswati Vidya Mandir\n",
            "DESIGNATION                   - Maths Faculty\n",
            "DEGREE                        - Lucknow\n",
            "COLLEGE NAME                  - Teacher  Computer Operator\n",
            "COLLEGE NAME                  - Aaj Kanpur\n",
            "GRADUATION YEAR               - 2015\n",
            "COLLEGE NAME                  - School Teacher\n",
            "COLLEGE NAME                  - New Public Inter Collage Lucknow\n",
            "GRADUATION YEAR               - 2018\n",
            "DEGREE                        - CCC Certiﬁcate\n",
            "COLLEGE NAME                  - Skill Build Certiﬁcates\n",
            "COLLEGE NAME                  - School Management System Web Project (2022)\n",
            "COLLEGE NAME                  - Achievements/Tasks\n",
            "##############################################################################################################33\n",
            "NAME                          - GAURI RUMALE\n",
            "LOCATION                      - Pune\n",
            "LOCATION                      - Pune\n",
            "DESIGNATION                   - DATA ANALYST\n",
            "##############################################################################################################33\n",
            "NAME                          - ANUBHAV SHAKYA\n",
            "LOCATION                      - 412101\n",
            "LOCATION                      - Pune\n",
            "LOCATION                      - Pune\n",
            "##############################################################################################################33\n",
            "NAME                          - SANIKA SUNIL\n",
            "LOCATION                      - Pune\n",
            "LOCATION                      - Pune\n",
            "LOCATION                      - Thane\n",
            "LOCATION                      - Thane\n",
            "DEGREE                        - Empathy\n",
            "COLLEGE NAME                  - Positivity Languages English Fluent Marathi Native Hindi Interests Drawing, Cycling, Travelling, Participating in various activities (Games) Declaration I hereby declare that all the facts mentioned above are true to my faith, and I am answerable for its accuracy. sanikakhade1729@gmail.com 1 / 1\n",
            "##############################################################################################################33\n",
            "NAME                          - Ajal Babu\n",
            "LOCATION                      - Pune\n",
            "LOCATION                      - Pune\n",
            "DEGREE                        - B.Sc Data Science,\n",
            "LOCATION                      - Pune\n",
            "DEGREE                        - Adaptability\n",
            "COLLEGE NAME                  - Curiosity LANGUAGES English Fluently speaking and writing English since high school Hindi Living in Maharashtra for the past 17\n",
            "##############################################################################################################33\n",
            "NAME                          - Profile Creative\n",
            "DESIGNATION                   - and Hustler\n",
            "LOCATION                      - Scientist\n",
            "DEGREE                        - in\n",
            "COLLEGE NAME                  - Ms\n",
            "COLLEGE NAME                  - Excel,\n",
            "DEGREE                        - of\n",
            "DEGREE                        - public\n",
            "DEGREE                        - and\n",
            "COLLEGE NAME                  - like\n",
            "COLLEGE NAME                  - Data\n",
            "LOCATION                      - Science\n",
            "SKILLS                        - SCHOOL, MOSHI 2020 – 2021 | INDIA secured ( 79.6 ) in  CBSE curriculum\n",
            "LOCATION                      - 10th\n",
            "##############################################################################################################33\n",
            "DEGREE                        - OLORUNTOBI O. ADEBOLA\n",
            "COMPANIES WORKED AT           - Integrity and honesty   •  Highly focused and success driven.\n",
            "GRADUATION YEAR               - 2022\n",
            "GRADUATION YEAR               - 2021\n",
            "GRADUATION YEAR               - 2021\n",
            "GRADUATION YEAR               - 2021\n",
            "GRADUATION YEAR               - 2021\n",
            "COLLEGE NAME                  - Chartered Institute of Personnel Management of Nigeria (CIPM) Certificate\n",
            "GRADUATION YEAR               - 2018\n",
            "COLLEGE NAME                  - Nigerian Institute of Management(Proficiency Certificate in Management)\n",
            "GRADUATION YEAR               - 2016\n",
            "DEGREE                        - University of Ilorin, Nigeria.\n",
            "GRADUATION YEAR               - 2015\n",
            "GRADUATION YEAR               - 2004\n",
            "COLLEGE NAME                  - Side Hustle Internship (remote)\n",
            "SKILLS                        - Load, clean, interpret and analyze data using Excel and Microsoft BI\n",
            "DEGREE                        - Management of databases\n",
            "SKILLS                        - Type, proofread, file, check and record quotation   •  Ensure the front office area is clean and always tidy      OLORUNTOBI O. ADEBOLA   email: oluphunkey@gmail.com                  Phone: 08067631741\n",
            "SKILLS                        - Operates a variety of office equipment including computer and printer   •  Maintain record in a confidential manner     Tanke LGEA School B, Ilorin, Kwara State.                •  Prepared courses for presentation for pupils according to approved curriculum    •\n",
            "COLLEGE NAME                  - Taught pupils using teaching aids and slides   •\n",
            "SKILLS                        - Prepared, administered and corrects tests and assignments\n",
            "GRADUATION YEAR               - 2020\n",
            "GRADUATION YEAR               - 2018\n",
            "GRADUATION YEAR               - 2016\n",
            "DEGREE                        - University of Ilorin, Sociology class of 2015 – Assistant Class Representative\n",
            "##############################################################################################################33\n",
            "NAME                          - SCHOLASTIC ACHIEVEMENTS\n",
            "LOCATION                      - Numpy\n",
            "EMAIL ADDRESS                 - 190040087 B.Tech\n",
            "##############################################################################################################33\n",
            "NAME                          - Ajiboye Abayomi\n",
            "DESIGNATION                   - Contact Address Adegbite Street,\n",
            "DESIGNATION                   - Microsoft Expert\n",
            "##############################################################################################################33\n",
            "NAME                          -    CONTACT GAYATRI BHAUSAHEB NIKAM Gauunikam7853@gmail.com 7447620363 At post Deola, dist.\n",
            "LOCATION                      - Nasik\n",
            "LOCATION                      - Nasik\n",
            "LOCATION                      - Nasik\n",
            "##############################################################################################################33\n",
            "NAME                          - Miss Mansi\n",
            "DESIGNATION                   - Academic Qualification\n",
            "COLLEGE NAME                  - Board/University\n",
            "DEGREE                        - M.sc(Data\n",
            "COLLEGE NAME                  - Science)\n",
            "DEGREE                        - University\n",
            "COLLEGE NAME                  - Symbiosis Skills  And Professional\n",
            "DEGREE                        - University\n",
            "COLLEGE NAME                  - (appearing)\n",
            "DEGREE                        - B.sc(Computer\n",
            "COLLEGE NAME                  - Science)\n",
            "DEGREE                        - university\n",
            "COLLEGE NAME                  - Indira college\n",
            "COLLEGE NAME                  - of commerce\n",
            "COLLEGE NAME                  - and science\n",
            "GRADUATION YEAR               - 2020\n",
            "DEGREE                        - Board\n",
            "COLLEGE NAME                  - Nirmal Bethany\n",
            "COLLEGE NAME                  - junior college\n",
            "GRADUATION YEAR               - 2018\n",
            "DEGREE                        - SSC (X)\n",
            "COLLEGE NAME                  - Operating Systems- (Windows XP, 7,10)\n",
            "DEGREE                        - Dancing\n",
            "DEGREE                        - •\n",
            "COLLEGE NAME                  - Self-motivated, focused, and dedicated\n",
            "COLLEGE NAME                  - Miss Mansi Akhade\n",
            "DEGREE                        - Nationality\n",
            "COLLEGE NAME                  - Indian  Gender\n",
            "DEGREE                        - female\n",
            "LOCATION                      - Pune\n",
            "##############################################################################################################33\n"
          ]
        }
      ]
    },
    {
      "cell_type": "code",
      "source": [
        "\n",
        "import nltk\n",
        "doc = nlp_model(tx)\n",
        "for ent in doc.ents:\n",
        "    print(f'{ent.label_.upper():{30}}- {ent.text}')"
      ],
      "metadata": {
        "colab": {
          "base_uri": "https://localhost:8080/"
        },
        "id": "vPEbnDDyZjKn",
        "outputId": "9f9c9142-446a-46ea-864c-8747207ccd12"
      },
      "execution_count": 24,
      "outputs": [
        {
          "output_type": "stream",
          "name": "stdout",
          "text": [
            "NAME                          - Miss Mansi\n",
            "DESIGNATION                   - Academic Qualification\n",
            "COLLEGE NAME                  - Board/University\n",
            "DEGREE                        - M.sc(Data\n",
            "COLLEGE NAME                  - Science)\n",
            "DEGREE                        - University\n",
            "COLLEGE NAME                  - Symbiosis Skills  And Professional\n",
            "DEGREE                        - University\n",
            "COLLEGE NAME                  - (appearing)\n",
            "DEGREE                        - B.sc(Computer\n",
            "COLLEGE NAME                  - Science)\n",
            "DEGREE                        - university\n",
            "COLLEGE NAME                  - Indira college\n",
            "COLLEGE NAME                  - of commerce\n",
            "COLLEGE NAME                  - and science\n",
            "GRADUATION YEAR               - 2020\n",
            "DEGREE                        - Board\n",
            "COLLEGE NAME                  - Nirmal Bethany\n",
            "COLLEGE NAME                  - junior college\n",
            "GRADUATION YEAR               - 2018\n",
            "DEGREE                        - SSC (X)\n",
            "COLLEGE NAME                  - Operating Systems- (Windows XP, 7,10)\n",
            "DEGREE                        - Dancing\n",
            "DEGREE                        - •\n",
            "COLLEGE NAME                  - Self-motivated, focused, and dedicated\n",
            "COLLEGE NAME                  - Miss Mansi Akhade\n",
            "DEGREE                        - Nationality\n",
            "COLLEGE NAME                  - Indian  Gender\n",
            "DEGREE                        - female\n",
            "LOCATION                      - Pune\n"
          ]
        }
      ]
    },
    {
      "cell_type": "code",
      "source": [
        ""
      ],
      "metadata": {
        "id": "C1Fi93TRZt-6"
      },
      "execution_count": 16,
      "outputs": []
    }
  ]
}
