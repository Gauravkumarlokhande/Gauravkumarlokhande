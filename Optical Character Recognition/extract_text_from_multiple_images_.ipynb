{
  "cells": [
    {
      "cell_type": "markdown",
      "metadata": {
        "id": "view-in-github",
        "colab_type": "text"
      },
      "source": [
        "<a href=\"https://colab.research.google.com/github/Gauravkumarlokhande/Gauravkumarlokhande/blob/main/extract_text_from_multiple_images_.ipynb\" target=\"_parent\"><img src=\"https://colab.research.google.com/assets/colab-badge.svg\" alt=\"Open In Colab\"/></a>"
      ]
    },
    {
      "cell_type": "code",
      "execution_count": 1,
      "metadata": {
        "id": "JOyY34U-8Wv7"
      },
      "outputs": [],
      "source": [
        "import numpy as np\n",
        "import pandas as pd\n",
        "import matplotlib.pyplot as plt"
      ]
    },
    {
      "cell_type": "code",
      "execution_count": 2,
      "metadata": {
        "colab": {
          "base_uri": "https://localhost:8080/"
        },
        "id": "BFOf9caa8_2N",
        "outputId": "5f0898f3-85e5-40c0-c420-648de52a5f3f"
      },
      "outputs": [
        {
          "output_type": "stream",
          "name": "stdout",
          "text": [
            "Collecting easyocr\n",
            "  Downloading easyocr-1.4.1-py3-none-any.whl (63.6 MB)\n",
            "\u001b[K     |████████████████████████████████| 63.6 MB 56 kB/s \n",
            "\u001b[?25hRequirement already satisfied: PyYAML in /usr/local/lib/python3.7/dist-packages (from easyocr) (3.13)\n",
            "Requirement already satisfied: torch in /usr/local/lib/python3.7/dist-packages (from easyocr) (1.10.0+cu111)\n",
            "Requirement already satisfied: scikit-image in /usr/local/lib/python3.7/dist-packages (from easyocr) (0.18.3)\n",
            "Requirement already satisfied: numpy in /usr/local/lib/python3.7/dist-packages (from easyocr) (1.21.5)\n",
            "Collecting python-bidi\n",
            "  Downloading python_bidi-0.4.2-py2.py3-none-any.whl (30 kB)\n",
            "Requirement already satisfied: Pillow<8.3.0 in /usr/local/lib/python3.7/dist-packages (from easyocr) (7.1.2)\n",
            "Requirement already satisfied: scipy in /usr/local/lib/python3.7/dist-packages (from easyocr) (1.4.1)\n",
            "Collecting opencv-python-headless\n",
            "  Downloading opencv_python_headless-4.5.5.64-cp36-abi3-manylinux_2_17_x86_64.manylinux2014_x86_64.whl (47.8 MB)\n",
            "\u001b[K     |████████████████████████████████| 47.8 MB 1.4 MB/s \n",
            "\u001b[?25hRequirement already satisfied: torchvision>=0.5 in /usr/local/lib/python3.7/dist-packages (from easyocr) (0.11.1+cu111)\n",
            "Requirement already satisfied: typing-extensions in /usr/local/lib/python3.7/dist-packages (from torch->easyocr) (3.10.0.2)\n",
            "Requirement already satisfied: six in /usr/local/lib/python3.7/dist-packages (from python-bidi->easyocr) (1.15.0)\n",
            "Requirement already satisfied: PyWavelets>=1.1.1 in /usr/local/lib/python3.7/dist-packages (from scikit-image->easyocr) (1.3.0)\n",
            "Requirement already satisfied: networkx>=2.0 in /usr/local/lib/python3.7/dist-packages (from scikit-image->easyocr) (2.6.3)\n",
            "Requirement already satisfied: matplotlib!=3.0.0,>=2.0.0 in /usr/local/lib/python3.7/dist-packages (from scikit-image->easyocr) (3.2.2)\n",
            "Requirement already satisfied: imageio>=2.3.0 in /usr/local/lib/python3.7/dist-packages (from scikit-image->easyocr) (2.4.1)\n",
            "Requirement already satisfied: tifffile>=2019.7.26 in /usr/local/lib/python3.7/dist-packages (from scikit-image->easyocr) (2021.11.2)\n",
            "Requirement already satisfied: python-dateutil>=2.1 in /usr/local/lib/python3.7/dist-packages (from matplotlib!=3.0.0,>=2.0.0->scikit-image->easyocr) (2.8.2)\n",
            "Requirement already satisfied: kiwisolver>=1.0.1 in /usr/local/lib/python3.7/dist-packages (from matplotlib!=3.0.0,>=2.0.0->scikit-image->easyocr) (1.4.0)\n",
            "Requirement already satisfied: cycler>=0.10 in /usr/local/lib/python3.7/dist-packages (from matplotlib!=3.0.0,>=2.0.0->scikit-image->easyocr) (0.11.0)\n",
            "Requirement already satisfied: pyparsing!=2.0.4,!=2.1.2,!=2.1.6,>=2.0.1 in /usr/local/lib/python3.7/dist-packages (from matplotlib!=3.0.0,>=2.0.0->scikit-image->easyocr) (3.0.7)\n",
            "Installing collected packages: python-bidi, opencv-python-headless, easyocr\n",
            "Successfully installed easyocr-1.4.1 opencv-python-headless-4.5.5.64 python-bidi-0.4.2\n"
          ]
        }
      ],
      "source": [
        "!pip install easyocr"
      ]
    },
    {
      "cell_type": "code",
      "execution_count": 3,
      "metadata": {
        "colab": {
          "base_uri": "https://localhost:8080/"
        },
        "id": "rARxldsQ9Any",
        "outputId": "cc7da59d-c22a-4779-b3eb-f36239f1b6af"
      },
      "outputs": [
        {
          "output_type": "stream",
          "name": "stdout",
          "text": [
            "Collecting opencv-python-headless==4.5.2.52\n",
            "  Downloading opencv_python_headless-4.5.2.52-cp37-cp37m-manylinux2014_x86_64.whl (38.2 MB)\n",
            "\u001b[K     |████████████████████████████████| 38.2 MB 1.2 MB/s \n",
            "\u001b[?25hRequirement already satisfied: numpy>=1.14.5 in /usr/local/lib/python3.7/dist-packages (from opencv-python-headless==4.5.2.52) (1.21.5)\n",
            "Installing collected packages: opencv-python-headless\n",
            "  Attempting uninstall: opencv-python-headless\n",
            "    Found existing installation: opencv-python-headless 4.5.5.64\n",
            "    Uninstalling opencv-python-headless-4.5.5.64:\n",
            "      Successfully uninstalled opencv-python-headless-4.5.5.64\n",
            "Successfully installed opencv-python-headless-4.5.2.52\n"
          ]
        }
      ],
      "source": [
        "pip install opencv-python-headless==4.5.2.52"
      ]
    },
    {
      "cell_type": "code",
      "execution_count": 4,
      "metadata": {
        "id": "IXIat2UD9E2n"
      },
      "outputs": [],
      "source": [
        "import cv2\n",
        "import glob\n",
        "import easyocr\n",
        "from pylab import rcParams\n",
        "rcParams['figure.figsize']=2,2"
      ]
    },
    {
      "cell_type": "code",
      "execution_count": 5,
      "metadata": {
        "id": "ZKvZTLXd9SF4"
      },
      "outputs": [],
      "source": [
        "from google.colab.patches import cv2_imshow"
      ]
    },
    {
      "cell_type": "code",
      "execution_count": 35,
      "metadata": {
        "id": "PjGo_Xd79YNU"
      },
      "outputs": [],
      "source": [
        "path=glob.glob('/content/drive/MyDrive/new/*')\n",
        "cv_image=[]\n",
        "for file in path:\n",
        "  img=cv2.imread(file)\n",
        "  cv_image.append(img)"
      ]
    },
    {
      "cell_type": "code",
      "execution_count": 9,
      "metadata": {
        "colab": {
          "base_uri": "https://localhost:8080/"
        },
        "id": "-nxk4ZAb9ddy",
        "outputId": "1b20586e-be4f-44e7-b2ff-1360dafebbbb"
      },
      "outputs": [
        {
          "output_type": "stream",
          "name": "stderr",
          "text": [
            "CUDA not available - defaulting to CPU. Note: This module is much faster with a GPU.\n",
            "Downloading detection model, please wait. This may take several minutes depending upon your network connection.\n"
          ]
        },
        {
          "output_type": "stream",
          "name": "stdout",
          "text": [
            ""
          ]
        },
        {
          "output_type": "stream",
          "name": "stderr",
          "text": [
            "Downloading recognition model, please wait. This may take several minutes depending upon your network connection.\n"
          ]
        },
        {
          "output_type": "stream",
          "name": "stdout",
          "text": [
            ""
          ]
        }
      ],
      "source": [
        "reader=easyocr.Reader(['en'])"
      ]
    },
    {
      "cell_type": "code",
      "source": [
        "list_img=[]\n",
        "for i in cv_image:\n",
        "  output=reader.readtext(i)\n",
        "  for j in output:\n",
        "    image_text=j[1]\n",
        "    list_img.append(image_text)\n",
        "print(list_img)"
      ],
      "metadata": {
        "colab": {
          "base_uri": "https://localhost:8080/"
        },
        "id": "VfT05MK8BTGS",
        "outputId": "fc274db3-84a0-403e-b560-82a6e55d9e95"
      },
      "execution_count": 51,
      "outputs": [
        {
          "output_type": "stream",
          "name": "stdout",
          "text": [
            "['adaptive   evolution,', 'close', 'monitoring', 'of the', 'viral', 'mutations   that', 'occur', 'subsequent   human-to-', 'human transmission is warranted.', 'M Protein', 'The M protein is the most abundant viral protein', 'present in the virion particle, giving a definite', 'to', 'the', 'viral', 'envelope', '(48).', 'It', 'binds', 'to', 'the', 'nucleocapsid', 'and', 'acts', 'as', 'central   organizer', 'of', 'coronavirus assembly (49).', 'Coronavirus M proteins', 'are', 'highly', 'diverse', 'in', 'amino', 'acid', 'contents', 'but', 'maintain overall structural similarity within different', 'genera (50). The M protein has three transmembrane', 'domains, flanked by', 'a short amino terminus outside', 'the virion', 'and', 'carboxy terminus  inside the', 'virion (50). Overall', 'the viral scaffold is maintained', 'by', 'M-M', 'interaction.', 'Of note, the', 'M protein', 'of', 'SARS-CoV-2', 'does', 'not', 'have', 'an', 'amino', 'acid', 'substitution compared to that of SARS-CoV (16).', 'E Protein', 'The coronavirus E protein is the most enigmatic', 'and smallest of the major structural proteins (51). It', 'plays', 'multifunctional', 'role', 'in', 'the', 'pathogenesis;', 'assembly, and release of the virus (52). It is', 'a small', 'integral', 'membrane', 'polypeptide', 'that', 'acts', 'as', 'viroporin', '(ion', 'channel)', '(53).', 'The', 'inactivation', 'or', 'during', 'shape', 'long', 'DIAGNOSIS OF SARS-CoV-2 (COVID-', '19)', 'RNA tests', 'can confirm the diagnosis of SARS-', 'CoV-2 (COVID-19) cases with real-time RT-PCR or', 'next-', 'generation sequencing', '148, 149, 245, 246). At', 'present, nucleic acid detection techniques, like RT-', 'PCR,', 'are', 'considered', 'an', 'effective', 'method', 'for', 'confirming the diagnosis in clinical cases of COVID-', '19 (148).', 'Several  companies', 'across the world are', 'currently   focusing', 'on', 'developing', 'and   marketing', 'SARS-CoV-2-specific', 'nucleic', 'acid', 'detection', 'kits.', 'Multiple laboratories are also developing their own', 'in-house RT-PCR.', 'One of them is the SARS-CoV-2', 'nucleic   acid', 'detection', 'kit   produced', 'by', 'Shuoshi', 'Biotechnology (double   fluorescence PCR', 'method)', '(150). Up to 30 March 2020, the U.S. Food and Drug', 'Administration', '(FDA)', 'had   granted', '22', 'in', 'vitro', 'diagnostics Emergency Use Authorizations (EUAs),', 'including for the RT-PCR diagnostic', 'for the', 'universal detection of SARS-like betacoronaviruses', 'and  specific detection', 'of SARS-CoV-2, developed', 'by the U.S. CDC', 'Table 1) (258,259).', 'panel', 'adaptive   evolution,', 'close', 'monitoring', 'of the', 'viral', 'mutations   that', 'occur', 'subsequent   human-to-', 'human transmission is warranted.', 'M Protein', 'The M protein is the most abundant viral protein', 'present in the virion particle, giving a definite', 'to', 'the', 'viral', 'envelope', '(48).', 'It', 'binds', 'to', 'the', 'nucleocapsid', 'and', 'acts', 'as', 'central   organizer', 'of', 'coronavirus assembly (49).', 'Coronavirus M proteins', 'are', 'highly', 'diverse', 'in', 'amino', 'acid', 'contents', 'but', 'maintain overall structural similarity within different', 'genera (50). The M protein has three transmembrane', 'domains, flanked by', 'a short amino terminus outside', 'the virion', 'and', 'carboxy terminus  inside the', 'virion (50). Overall', 'the viral scaffold is maintained', 'by', 'M-M', 'interaction.', 'Of note, the', 'M protein', 'of', 'SARS-CoV-2', 'does', 'not', 'have', 'an', 'amino', 'acid', 'substitution compared to that of SARS-CoV (16).', 'E Protein', 'The coronavirus E protein is the most enigmatic', 'and smallest of the major structural proteins (51). It', 'plays', 'multifunctional', 'role', 'in', 'the', 'pathogenesis;', 'assembly, and release of the virus (52). It is', 'a small', 'integral', 'membrane', 'polypeptide', 'that', 'acts', 'as', 'viroporin', '(ion', 'channel)', '(53).', 'The', 'inactivation', 'or', 'during', 'shape', 'long', 'other', 'emerging', 'viral', 'diseases.', 'Several   therapeutic', 'and', 'preventive', 'strategies,', 'including', 'vaccines,', 'immunotherapeutics, and antiviral drugs, have been', 'exploited', 'against', 'the', 'previous', 'CoV', 'outbreaks', '(SARS-CoV and', 'MERS-CoV) (8,', '104, 164-167).', 'These valuable options have already been evaluated', 'for  their potency, efficacy,', 'and safety,', 'with', 'several other types of current research that will fuel', 'our', 'search', 'for', 'ideal', 'therapeutic', 'agents', 'COVID-19 (7, 9, 19, 21, 36). The primary cause of', 'the', 'unavailability', 'of   approved', 'and', 'commercial', 'vaccines,  drugs,', 'and', 'therapeutics', 'to', 'counter', 'the', 'earlier SARS-CoV and MERS-CoV', 'seems t0 owe to', 'the', 'lesser', 'attention', 'of', 'the', 'biomedicine', 'and', 'pharmaceutical  companies,', 'as these two CoVs did', 'not cause much havoc,', 'global threat, and panic like', 'those   posed by the', 'SARS-CoV-2   pandemic', '(19).', 'Moreover;', 'for', 'such', 'outbreak', 'situations,', 'the', 'requirement', 'for', 'vaccines', 'and', 'therapeutics/drugs', 'exists only for a limited period, until the outbreak is', 'controlled.', 'The proportion of the human population', 'infected with SARS-CoV and MERS-CoV was also', 'much lower across the globe,', 'failing to attract', 'and vaccine manufacturers and producers. Therefore,', 'by the time an effective', 'or vaccine is designed', 'against such disease outbreaks, the virus would have', 'been', 'controlled by adopting appropriate and', 'strict', 'along', 'against', 'drug', 'drug', 'other', 'emerging', 'viral', 'diseases.', 'Several   therapeutic', 'and', 'preventive', 'strategies,', 'including', 'vaccines,', 'immunotherapeutics, and antiviral drugs, have been', 'exploited', 'against', 'the', 'previous', 'CoV', 'outbreaks', '(SARS-CoV and', 'MERS-CoV) (8,', '104, 164-167).', 'These valuable options have already been evaluated', 'for  their potency, efficacy,', 'and safety,', 'with', 'several other types of current research that will fuel', 'our', 'search', 'for', 'ideal', 'therapeutic', 'agents', 'COVID-19 (7, 9, 19, 21, 36). The primary cause of', 'the', 'unavailability', 'of   approved', 'and', 'commercial', 'vaccines,  drugs,', 'and', 'therapeutics', 'to', 'counter', 'the', 'earlier SARS-CoV and MERS-CoV', 'seems t0 owe to', 'the', 'lesser', 'attention', 'of', 'the', 'biomedicine', 'and', 'pharmaceutical  companies,', 'as these two CoVs did', 'not cause much havoc,', 'global threat, and panic like', 'those   posed by the', 'SARS-CoV-2   pandemic', '(19).', 'Moreover;', 'for', 'such', 'outbreak', 'situations,', 'the', 'requirement', 'for', 'vaccines', 'and', 'therapeutics/drugs', 'exists only for a limited period, until the outbreak is', 'controlled.', 'The proportion of the human population', 'infected with SARS-CoV and MERS-CoV was also', 'much lower across the globe,', 'failing to attract', 'and vaccine manufacturers and producers. Therefore,', 'by the time an effective', 'or vaccine is designed', 'against such disease outbreaks, the virus would have', 'been', 'controlled by adopting appropriate and', 'strict', 'along', 'against', 'drug', 'drug', 'DIAGNOSIS OF SARS-CoV-2 (COVID-', '19)', 'RNA tests', 'can confirm the diagnosis of SARS-', 'CoV-2 (COVID-19) cases with real-time RT-PCR or', 'next-', 'generation sequencing', '148, 149, 245, 246). At', 'present, nucleic acid detection techniques, like RT-', 'PCR,', 'are', 'considered', 'an', 'effective', 'method', 'for', 'confirming the diagnosis in clinical cases of COVID-', '19 (148).', 'Several  companies', 'across the world are', 'currently   focusing', 'on', 'developing', 'and   marketing', 'SARS-CoV-2-specific', 'nucleic', 'acid', 'detection', 'kits.', 'Multiple laboratories are also developing their own', 'in-house RT-PCR.', 'One of them is the SARS-CoV-2', 'nucleic   acid', 'detection', 'kit   produced', 'by', 'Shuoshi', 'Biotechnology (double   fluorescence PCR', 'method)', '(150). Up to 30 March 2020, the U.S. Food and Drug', 'Administration', '(FDA)', 'had   granted', '22', 'in', 'vitro', 'diagnostics Emergency Use Authorizations (EUAs),', 'including for the RT-PCR diagnostic', 'for the', 'universal detection of SARS-like betacoronaviruses', 'and  specific detection', 'of SARS-CoV-2, developed', 'by the U.S. CDC', 'Table 1) (258,259).', 'panel', 'recovered patients   and used for plasma transfusion', 'twice in', 'a   volume of 200 to 250 ml on the', 'of', 'collection (310). At present; treatment for', 'and', 'ARDS mainly involves antimicrobial therapy, source', 'control,', 'and', 'supportive', 'care.', 'Hence,', 'the', 'use', 'of', 'therapeutic plasma exchange can be considered', 'an', 'option in managing such', 'severe conditions. Further', 'randomized trials can be designed to investigate its', 'efficacy (311).', 'Potential Therapeutic Agents', 'Potent', 'therapeutics', 'to', 'combat', 'SARS-CoV-2', 'infection include virus', 'binding molecules, molecules', 'or inhibitors targeting particular enzymes implicated', 'in replication and transcription process of the virus,', 'helicase inhibitors, vital viral proteases and proteins,', 'protease', 'inhibitors', 'of', 'host', 'cells,', 'endocytosis', 'inhibitors,', 'short', 'interfering', 'RNA', '(siRNA),', 'neutralizing', 'antibodies,', 'MAbs', 'against', 'the', 'host', 'receptor;', 'MAbs', 'interfering', 'with', 'the', 'Sl', 'RBD', 'antiviral', 'peptide', 'aimed', 'at', 'S2,', 'and', 'natural', 'drugs/medicines (7, 166, 186).', 'The S protein acts as', 'the critical target for developing CoV antivirals, like', 'inhibitors of S protein and S cleavage, neutralizing', 'antibodies, RBD-ACE2 blockers, siRNAs, blockers', 'of the fusion core, and proteases', '168).', 'All of these therapeutic approaches have revealed', 'day', 'sepsis', 'recovered patients   and used for plasma transfusion', 'twice in', 'a   volume of 200 to 250 ml on the', 'of', 'collection (310). At present; treatment for', 'and', 'ARDS mainly involves antimicrobial therapy, source', 'control,', 'and', 'supportive', 'care.', 'Hence,', 'the', 'use', 'of', 'therapeutic plasma exchange can be considered', 'an', 'option in managing such', 'severe conditions. Further', 'randomized trials can be designed to investigate its', 'efficacy (311).', 'Potential Therapeutic Agents', 'Potent', 'therapeutics', 'to', 'combat', 'SARS-CoV-2', 'infection include virus', 'binding molecules, molecules', 'or inhibitors targeting particular enzymes implicated', 'in replication and transcription process of the virus,', 'helicase inhibitors, vital viral proteases and proteins,', 'protease', 'inhibitors', 'of', 'host', 'cells,', 'endocytosis', 'inhibitors,', 'short', 'interfering', 'RNA', '(siRNA),', 'neutralizing', 'antibodies,', 'MAbs', 'against', 'the', 'host', 'receptor;', 'MAbs', 'interfering', 'with', 'the', 'Sl', 'RBD', 'antiviral', 'peptide', 'aimed', 'at', 'S2,', 'and', 'natural', 'drugs/medicines (7, 166, 186).', 'The S protein acts as', 'the critical target for developing CoV antivirals, like', 'inhibitors of S protein and S cleavage, neutralizing', 'antibodies, RBD-ACE2 blockers, siRNAs, blockers', 'of the fusion core, and proteases', '168).', 'All of these therapeutic approaches have revealed', 'day', 'sepsis']\n"
          ]
        }
      ]
    },
    {
      "cell_type": "code",
      "source": [
        "from nltk.tokenize.treebank import TreebankWordDetokenizer\n",
        "text=TreebankWordDetokenizer().detokenize(list_img)"
      ],
      "metadata": {
        "id": "ou38pzscB5QC"
      },
      "execution_count": 52,
      "outputs": []
    },
    {
      "cell_type": "code",
      "source": [
        "print(text)"
      ],
      "metadata": {
        "id": "wotlimldm1DP",
        "outputId": "ab9ccc6d-c701-45e9-cb36-fb3b2cec7a7e",
        "colab": {
          "base_uri": "https://localhost:8080/"
        }
      },
      "execution_count": 53,
      "outputs": [
        {
          "output_type": "stream",
          "name": "stdout",
          "text": [
            "adaptive   evolution, close monitoring of the viral mutations   that occur subsequent   human-to- human transmission is warranted. M Protein The M protein is the most abundant viral protein present in the virion particle, giving a definite to the viral envelope (48). It binds to the nucleocapsid and acts as central   organizer of coronavirus assembly (49). Coronavirus M proteins are highly diverse in amino acid contents but maintain overall structural similarity within different genera (50). The M protein has three transmembrane domains, flanked by a short amino terminus outside the virion and carboxy terminus  inside the virion (50). Overall the viral scaffold is maintained by M-M interaction. Of note, the M protein of SARS-CoV-2 does not have an amino acid substitution compared to that of SARS-CoV (16). E Protein The coronavirus E protein is the most enigmatic and smallest of the major structural proteins (51). It plays multifunctional role in the pathogenesis; assembly, and release of the virus (52). It is a small integral membrane polypeptide that acts as viroporin (ion channel) (53). The inactivation or during shape long DIAGNOSIS OF SARS-CoV-2 (COVID- 19) RNA tests can confirm the diagnosis of SARS- CoV-2 (COVID-19) cases with real-time RT-PCR or next- generation sequencing 148, 149, 245, 246). At present, nucleic acid detection techniques, like RT- PCR, are considered an effective method for confirming the diagnosis in clinical cases of COVID- 19 (148). Several  companies across the world are currently   focusing on developing and   marketing SARS-CoV-2-specific nucleic acid detection kits. Multiple laboratories are also developing their own in-house RT-PCR. One of them is the SARS-CoV-2 nucleic   acid detection kit   produced by Shuoshi Biotechnology (double   fluorescence PCR method) (150). Up to 30 March 2020, the U.S. Food and Drug Administration (FDA) had   granted 22 in vitro diagnostics Emergency Use Authorizations (EUAs), including for the RT-PCR diagnostic for the universal detection of SARS-like betacoronaviruses and  specific detection of SARS-CoV-2, developed by the U.S. CDC Table 1) (258,259). panel adaptive   evolution, close monitoring of the viral mutations   that occur subsequent   human-to- human transmission is warranted. M Protein The M protein is the most abundant viral protein present in the virion particle, giving a definite to the viral envelope (48). It binds to the nucleocapsid and acts as central   organizer of coronavirus assembly (49). Coronavirus M proteins are highly diverse in amino acid contents but maintain overall structural similarity within different genera (50). The M protein has three transmembrane domains, flanked by a short amino terminus outside the virion and carboxy terminus  inside the virion (50). Overall the viral scaffold is maintained by M-M interaction. Of note, the M protein of SARS-CoV-2 does not have an amino acid substitution compared to that of SARS-CoV (16). E Protein The coronavirus E protein is the most enigmatic and smallest of the major structural proteins (51). It plays multifunctional role in the pathogenesis; assembly, and release of the virus (52). It is a small integral membrane polypeptide that acts as viroporin (ion channel) (53). The inactivation or during shape long other emerging viral diseases. Several   therapeutic and preventive strategies, including vaccines, immunotherapeutics, and antiviral drugs, have been exploited against the previous CoV outbreaks (SARS-CoV and MERS-CoV) (8, 104, 164-167). These valuable options have already been evaluated for  their potency, efficacy, and safety, with several other types of current research that will fuel our search for ideal therapeutic agents COVID-19 (7, 9, 19, 21, 36). The primary cause of the unavailability of   approved and commercial vaccines,  drugs, and therapeutics to counter the earlier SARS-CoV and MERS-CoV seems t0 owe to the lesser attention of the biomedicine and pharmaceutical  companies, as these two CoVs did not cause much havoc, global threat, and panic like those   posed by the SARS-CoV-2   pandemic (19). Moreover; for such outbreak situations, the requirement for vaccines and therapeutics/drugs exists only for a limited period, until the outbreak is controlled. The proportion of the human population infected with SARS-CoV and MERS-CoV was also much lower across the globe, failing to attract and vaccine manufacturers and producers. Therefore, by the time an effective or vaccine is designed against such disease outbreaks, the virus would have been controlled by adopting appropriate and strict along against drug drug other emerging viral diseases. Several   therapeutic and preventive strategies, including vaccines, immunotherapeutics, and antiviral drugs, have been exploited against the previous CoV outbreaks (SARS-CoV and MERS-CoV) (8, 104, 164-167). These valuable options have already been evaluated for  their potency, efficacy, and safety, with several other types of current research that will fuel our search for ideal therapeutic agents COVID-19 (7, 9, 19, 21, 36). The primary cause of the unavailability of   approved and commercial vaccines,  drugs, and therapeutics to counter the earlier SARS-CoV and MERS-CoV seems t0 owe to the lesser attention of the biomedicine and pharmaceutical  companies, as these two CoVs did not cause much havoc, global threat, and panic like those   posed by the SARS-CoV-2   pandemic (19). Moreover; for such outbreak situations, the requirement for vaccines and therapeutics/drugs exists only for a limited period, until the outbreak is controlled. The proportion of the human population infected with SARS-CoV and MERS-CoV was also much lower across the globe, failing to attract and vaccine manufacturers and producers. Therefore, by the time an effective or vaccine is designed against such disease outbreaks, the virus would have been controlled by adopting appropriate and strict along against drug drug DIAGNOSIS OF SARS-CoV-2 (COVID- 19) RNA tests can confirm the diagnosis of SARS- CoV-2 (COVID-19) cases with real-time RT-PCR or next- generation sequencing 148, 149, 245, 246). At present, nucleic acid detection techniques, like RT- PCR, are considered an effective method for confirming the diagnosis in clinical cases of COVID- 19 (148). Several  companies across the world are currently   focusing on developing and   marketing SARS-CoV-2-specific nucleic acid detection kits. Multiple laboratories are also developing their own in-house RT-PCR. One of them is the SARS-CoV-2 nucleic   acid detection kit   produced by Shuoshi Biotechnology (double   fluorescence PCR method) (150). Up to 30 March 2020, the U.S. Food and Drug Administration (FDA) had   granted 22 in vitro diagnostics Emergency Use Authorizations (EUAs), including for the RT-PCR diagnostic for the universal detection of SARS-like betacoronaviruses and  specific detection of SARS-CoV-2, developed by the U.S. CDC Table 1) (258,259). panel recovered patients   and used for plasma transfusion twice in a   volume of 200 to 250 ml on the of collection (310). At present; treatment for and ARDS mainly involves antimicrobial therapy, source control, and supportive care. Hence, the use of therapeutic plasma exchange can be considered an option in managing such severe conditions. Further randomized trials can be designed to investigate its efficacy (311). Potential Therapeutic Agents Potent therapeutics to combat SARS-CoV-2 infection include virus binding molecules, molecules or inhibitors targeting particular enzymes implicated in replication and transcription process of the virus, helicase inhibitors, vital viral proteases and proteins, protease inhibitors of host cells, endocytosis inhibitors, short interfering RNA (siRNA), neutralizing antibodies, MAbs against the host receptor; MAbs interfering with the Sl RBD antiviral peptide aimed at S2, and natural drugs/medicines (7, 166, 186). The S protein acts as the critical target for developing CoV antivirals, like inhibitors of S protein and S cleavage, neutralizing antibodies, RBD-ACE2 blockers, siRNAs, blockers of the fusion core, and proteases 168). All of these therapeutic approaches have revealed day sepsis recovered patients   and used for plasma transfusion twice in a   volume of 200 to 250 ml on the of collection (310). At present; treatment for and ARDS mainly involves antimicrobial therapy, source control, and supportive care. Hence, the use of therapeutic plasma exchange can be considered an option in managing such severe conditions. Further randomized trials can be designed to investigate its efficacy (311). Potential Therapeutic Agents Potent therapeutics to combat SARS-CoV-2 infection include virus binding molecules, molecules or inhibitors targeting particular enzymes implicated in replication and transcription process of the virus, helicase inhibitors, vital viral proteases and proteins, protease inhibitors of host cells, endocytosis inhibitors, short interfering RNA (siRNA), neutralizing antibodies, MAbs against the host receptor; MAbs interfering with the Sl RBD antiviral peptide aimed at S2, and natural drugs/medicines (7, 166, 186). The S protein acts as the critical target for developing CoV antivirals, like inhibitors of S protein and S cleavage, neutralizing antibodies, RBD-ACE2 blockers, siRNAs, blockers of the fusion core, and proteases 168). All of these therapeutic approaches have revealed day sepsis\n"
          ]
        }
      ]
    },
    {
      "cell_type": "code",
      "source": [
        "pip install python-docx"
      ],
      "metadata": {
        "id": "qwr18tX7p9cb",
        "outputId": "ceb17481-aa6f-4870-c852-665bff6d6be9",
        "colab": {
          "base_uri": "https://localhost:8080/"
        }
      },
      "execution_count": 54,
      "outputs": [
        {
          "output_type": "stream",
          "name": "stdout",
          "text": [
            "Collecting python-docx\n",
            "  Downloading python-docx-0.8.11.tar.gz (5.6 MB)\n",
            "\u001b[K     |████████████████████████████████| 5.6 MB 22.3 MB/s \n",
            "\u001b[?25hRequirement already satisfied: lxml>=2.3.2 in /usr/local/lib/python3.7/dist-packages (from python-docx) (4.2.6)\n",
            "Building wheels for collected packages: python-docx\n",
            "  Building wheel for python-docx (setup.py) ... \u001b[?25l\u001b[?25hdone\n",
            "  Created wheel for python-docx: filename=python_docx-0.8.11-py3-none-any.whl size=184507 sha256=c50c5215e6b6f8a8f0d028f09b7906d717fcf44d44cc340ec486561d1e3bc55d\n",
            "  Stored in directory: /root/.cache/pip/wheels/f6/6f/b9/d798122a8b55b74ad30b5f52b01482169b445fbb84a11797a6\n",
            "Successfully built python-docx\n",
            "Installing collected packages: python-docx\n",
            "Successfully installed python-docx-0.8.11\n"
          ]
        }
      ]
    },
    {
      "cell_type": "code",
      "source": [
        "from docx import Document\n",
        "\n",
        "document = Document()\n",
        "document.add_heading('Covid Virus', 0)\n",
        "p = document.add_paragraph(text)\n",
        "\n",
        "document.save('Ddemo.docx')"
      ],
      "metadata": {
        "id": "gFFY9s83qRoM"
      },
      "execution_count": 59,
      "outputs": []
    },
    {
      "cell_type": "code",
      "source": [
        ""
      ],
      "metadata": {
        "id": "6rqDr0VMqqNy"
      },
      "execution_count": null,
      "outputs": []
    }
  ],
  "metadata": {
    "colab": {
      "name": "extract text from multiple images .ipynb",
      "provenance": [],
      "collapsed_sections": [],
      "mount_file_id": "1q2MOgdayuuohUloM3I_XtKq49EoYyVdB",
      "authorship_tag": "ABX9TyNNqJqn37ZYabXWqpYYvoCA",
      "include_colab_link": true
    },
    "kernelspec": {
      "display_name": "Python 3",
      "name": "python3"
    },
    "language_info": {
      "name": "python"
    }
  },
  "nbformat": 4,
  "nbformat_minor": 0
}
