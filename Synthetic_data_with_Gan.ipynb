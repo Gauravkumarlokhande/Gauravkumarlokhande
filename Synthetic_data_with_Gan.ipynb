{
  "nbformat": 4,
  "nbformat_minor": 0,
  "metadata": {
    "colab": {
      "name": "Synthetic data with Gan.ipynb",
      "provenance": [],
      "collapsed_sections": [],
      "mount_file_id": "1QlrjtHj97bhDicxKVj67hEmwM5UnR3Xd",
      "authorship_tag": "ABX9TyMUqVibT0LPobO1yJ0FkLSF",
      "include_colab_link": true
    },
    "kernelspec": {
      "name": "python3",
      "display_name": "Python 3"
    },
    "language_info": {
      "name": "python"
    }
  },
  "cells": [
    {
      "cell_type": "markdown",
      "metadata": {
        "id": "view-in-github",
        "colab_type": "text"
      },
      "source": [
        "<a href=\"https://colab.research.google.com/github/Gauravkumarlokhande/My-Projects/blob/main/Synthetic_data_with_Gan.ipynb\" target=\"_parent\"><img src=\"https://colab.research.google.com/assets/colab-badge.svg\" alt=\"Open In Colab\"/></a>"
      ]
    },
    {
      "cell_type": "code",
      "source": [
        "from google.colab import drive\n",
        "drive.mount('/content/drive')"
      ],
      "metadata": {
        "colab": {
          "base_uri": "https://localhost:8080/"
        },
        "id": "pUfpVi7tD2zu",
        "outputId": "642f253d-32ee-4686-ad4b-4c03fd61b17a"
      },
      "execution_count": 29,
      "outputs": [
        {
          "output_type": "stream",
          "name": "stdout",
          "text": [
            "Drive already mounted at /content/drive; to attempt to forcibly remount, call drive.mount(\"/content/drive\", force_remount=True).\n"
          ]
        }
      ]
    },
    {
      "cell_type": "code",
      "source": [
        "import numpy as np\n",
        "import pandas as pd"
      ],
      "metadata": {
        "id": "va-FGnDbEiyy"
      },
      "execution_count": 30,
      "outputs": []
    },
    {
      "cell_type": "code",
      "source": [
        "!pip install ctgan"
      ],
      "metadata": {
        "colab": {
          "base_uri": "https://localhost:8080/"
        },
        "id": "MReO_gop2obq",
        "outputId": "f826fd24-c636-4d38-b9df-79e71c823ecd"
      },
      "execution_count": 31,
      "outputs": [
        {
          "output_type": "stream",
          "name": "stdout",
          "text": [
            "Requirement already satisfied: ctgan in /usr/local/lib/python3.7/dist-packages (0.5.1)\n",
            "Requirement already satisfied: pandas<2,>=1.1.3 in /usr/local/lib/python3.7/dist-packages (from ctgan) (1.3.5)\n",
            "Requirement already satisfied: torchvision<1,>=0.9.0 in /usr/local/lib/python3.7/dist-packages (from ctgan) (0.12.0+cu113)\n",
            "Requirement already satisfied: packaging<22,>=20 in /usr/local/lib/python3.7/dist-packages (from ctgan) (21.3)\n",
            "Requirement already satisfied: rdt<0.7,>=0.6.2 in /usr/local/lib/python3.7/dist-packages (from ctgan) (0.6.4)\n",
            "Requirement already satisfied: scikit-learn<2,>=0.24 in /usr/local/lib/python3.7/dist-packages (from ctgan) (1.0.2)\n",
            "Requirement already satisfied: torch<2,>=1.8.0 in /usr/local/lib/python3.7/dist-packages (from ctgan) (1.11.0+cu113)\n",
            "Requirement already satisfied: numpy<2,>=1.20.0 in /usr/local/lib/python3.7/dist-packages (from ctgan) (1.21.6)\n",
            "Requirement already satisfied: pyparsing!=3.0.5,>=2.0.2 in /usr/local/lib/python3.7/dist-packages (from packaging<22,>=20->ctgan) (3.0.8)\n",
            "Requirement already satisfied: pytz>=2017.3 in /usr/local/lib/python3.7/dist-packages (from pandas<2,>=1.1.3->ctgan) (2022.1)\n",
            "Requirement already satisfied: python-dateutil>=2.7.3 in /usr/local/lib/python3.7/dist-packages (from pandas<2,>=1.1.3->ctgan) (2.8.2)\n",
            "Requirement already satisfied: six>=1.5 in /usr/local/lib/python3.7/dist-packages (from python-dateutil>=2.7.3->pandas<2,>=1.1.3->ctgan) (1.15.0)\n",
            "Requirement already satisfied: psutil<6,>=5.7 in /usr/local/lib/python3.7/dist-packages (from rdt<0.7,>=0.6.2->ctgan) (5.9.0)\n",
            "Requirement already satisfied: scipy<1.8,>=1.5.4 in /usr/local/lib/python3.7/dist-packages (from rdt<0.7,>=0.6.2->ctgan) (1.7.3)\n",
            "Requirement already satisfied: pyyaml<6,>=5.4.1 in /usr/local/lib/python3.7/dist-packages (from rdt<0.7,>=0.6.2->ctgan) (5.4.1)\n",
            "Requirement already satisfied: threadpoolctl>=2.0.0 in /usr/local/lib/python3.7/dist-packages (from scikit-learn<2,>=0.24->ctgan) (3.1.0)\n",
            "Requirement already satisfied: joblib>=0.11 in /usr/local/lib/python3.7/dist-packages (from scikit-learn<2,>=0.24->ctgan) (1.1.0)\n",
            "Requirement already satisfied: typing-extensions in /usr/local/lib/python3.7/dist-packages (from torch<2,>=1.8.0->ctgan) (4.2.0)\n",
            "Requirement already satisfied: requests in /usr/local/lib/python3.7/dist-packages (from torchvision<1,>=0.9.0->ctgan) (2.23.0)\n",
            "Requirement already satisfied: pillow!=8.3.*,>=5.3.0 in /usr/local/lib/python3.7/dist-packages (from torchvision<1,>=0.9.0->ctgan) (7.1.2)\n",
            "Requirement already satisfied: idna<3,>=2.5 in /usr/local/lib/python3.7/dist-packages (from requests->torchvision<1,>=0.9.0->ctgan) (2.10)\n",
            "Requirement already satisfied: certifi>=2017.4.17 in /usr/local/lib/python3.7/dist-packages (from requests->torchvision<1,>=0.9.0->ctgan) (2021.10.8)\n",
            "Requirement already satisfied: urllib3!=1.25.0,!=1.25.1,<1.26,>=1.21.1 in /usr/local/lib/python3.7/dist-packages (from requests->torchvision<1,>=0.9.0->ctgan) (1.24.3)\n",
            "Requirement already satisfied: chardet<4,>=3.0.2 in /usr/local/lib/python3.7/dist-packages (from requests->torchvision<1,>=0.9.0->ctgan) (3.0.4)\n"
          ]
        }
      ]
    },
    {
      "cell_type": "code",
      "source": [
        "!pip install table_evaluator"
      ],
      "metadata": {
        "colab": {
          "base_uri": "https://localhost:8080/"
        },
        "id": "lZd1ODvS3Qkx",
        "outputId": "41bc3159-dc76-4b2e-ed40-8051abcb3b0a"
      },
      "execution_count": 32,
      "outputs": [
        {
          "output_type": "stream",
          "name": "stdout",
          "text": [
            "Requirement already satisfied: table_evaluator in /usr/local/lib/python3.7/dist-packages (1.4.2)\n",
            "Requirement already satisfied: scikit-learn in /usr/local/lib/python3.7/dist-packages (from table_evaluator) (1.0.2)\n",
            "Requirement already satisfied: matplotlib in /usr/local/lib/python3.7/dist-packages (from table_evaluator) (3.2.2)\n",
            "Requirement already satisfied: dython==0.5.1 in /usr/local/lib/python3.7/dist-packages (from table_evaluator) (0.5.1)\n",
            "Requirement already satisfied: psutil in /usr/local/lib/python3.7/dist-packages (from table_evaluator) (5.9.0)\n",
            "Requirement already satisfied: seaborn<=0.11.1 in /usr/local/lib/python3.7/dist-packages (from table_evaluator) (0.11.1)\n",
            "Requirement already satisfied: numpy in /usr/local/lib/python3.7/dist-packages (from table_evaluator) (1.21.6)\n",
            "Requirement already satisfied: pandas in /usr/local/lib/python3.7/dist-packages (from table_evaluator) (1.3.5)\n",
            "Requirement already satisfied: tqdm in /usr/local/lib/python3.7/dist-packages (from table_evaluator) (4.64.0)\n",
            "Requirement already satisfied: scipy in /usr/local/lib/python3.7/dist-packages (from table_evaluator) (1.7.3)\n",
            "Requirement already satisfied: python-dateutil>=2.1 in /usr/local/lib/python3.7/dist-packages (from matplotlib->table_evaluator) (2.8.2)\n",
            "Requirement already satisfied: kiwisolver>=1.0.1 in /usr/local/lib/python3.7/dist-packages (from matplotlib->table_evaluator) (1.4.2)\n",
            "Requirement already satisfied: cycler>=0.10 in /usr/local/lib/python3.7/dist-packages (from matplotlib->table_evaluator) (0.11.0)\n",
            "Requirement already satisfied: pyparsing!=2.0.4,!=2.1.2,!=2.1.6,>=2.0.1 in /usr/local/lib/python3.7/dist-packages (from matplotlib->table_evaluator) (3.0.8)\n",
            "Requirement already satisfied: typing-extensions in /usr/local/lib/python3.7/dist-packages (from kiwisolver>=1.0.1->matplotlib->table_evaluator) (4.2.0)\n",
            "Requirement already satisfied: pytz>=2017.3 in /usr/local/lib/python3.7/dist-packages (from pandas->table_evaluator) (2022.1)\n",
            "Requirement already satisfied: six>=1.5 in /usr/local/lib/python3.7/dist-packages (from python-dateutil>=2.1->matplotlib->table_evaluator) (1.15.0)\n",
            "Requirement already satisfied: threadpoolctl>=2.0.0 in /usr/local/lib/python3.7/dist-packages (from scikit-learn->table_evaluator) (3.1.0)\n",
            "Requirement already satisfied: joblib>=0.11 in /usr/local/lib/python3.7/dist-packages (from scikit-learn->table_evaluator) (1.1.0)\n"
          ]
        }
      ]
    },
    {
      "cell_type": "code",
      "source": [
        "import pandas as pd\n",
        "real_data = pd.read_excel('/content/drive/MyDrive/demo.xlsx')\n",
        "print(real_data)"
      ],
      "metadata": {
        "colab": {
          "base_uri": "https://localhost:8080/"
        },
        "id": "qWdftof41Tjp",
        "outputId": "62623773-fe35-42be-9f67-d5011552cec1"
      },
      "execution_count": 33,
      "outputs": [
        {
          "output_type": "stream",
          "name": "stdout",
          "text": [
            "   Industry SubIndustry                     Position  YrsExp   Proficiency\n",
            "0         A          A1              ACCOUNT_MANAGER       5        EXPERT\n",
            "1         A          A1               OFFICE_MANAGER       8        EXPERT\n",
            "2         A          A1         OFFICE_ADMINISTRATOR       2      BEGINNER\n",
            "3         A          A1              SENIOR_DIRECTOR      20        EXPERT\n",
            "4         A          A1               POLICY_ANALYST      16  INTERMEDIATE\n",
            "..      ...         ...                          ...     ...           ...\n",
            "91        C          C3   HUMAN_RESOURCES_GENERALIST      10        EXPERT\n",
            "92        C          C3   EMPLOYEE_RELATIONS_MANAGER      20  INTERMEDIATE\n",
            "93        C          C3  HUMAN_RESOURCES_COORDINATOR      10        EXPERT\n",
            "94        C          C3             BUSINESS_ANALYST      20        EXPERT\n",
            "95        C          C3        CAPTIVE_ADMINISTRATOR      10  INTERMEDIATE\n",
            "\n",
            "[96 rows x 5 columns]\n"
          ]
        }
      ]
    },
    {
      "cell_type": "code",
      "source": [
        "real_data['SubIndustry'].unique()"
      ],
      "metadata": {
        "colab": {
          "base_uri": "https://localhost:8080/"
        },
        "id": "YJNjuyS3HWSy",
        "outputId": "ed112742-550f-4824-f66b-5274517f445e"
      },
      "execution_count": 34,
      "outputs": [
        {
          "output_type": "execute_result",
          "data": {
            "text/plain": [
              "array(['A1', 'A2', 'A3', 'B1', 'B2', 'B3', 'C1', 'C2', 'C3'], dtype=object)"
            ]
          },
          "metadata": {},
          "execution_count": 34
        }
      ]
    },
    {
      "cell_type": "code",
      "source": [
        "real_data['Industry'].unique()"
      ],
      "metadata": {
        "colab": {
          "base_uri": "https://localhost:8080/"
        },
        "id": "LVMxDsTTGE7Q",
        "outputId": "7ac62ff6-34a6-4892-faac-c7e24b04b83f"
      },
      "execution_count": 35,
      "outputs": [
        {
          "output_type": "execute_result",
          "data": {
            "text/plain": [
              "array(['A', 'B', 'C'], dtype=object)"
            ]
          },
          "metadata": {},
          "execution_count": 35
        }
      ]
    },
    {
      "cell_type": "code",
      "source": [
        "count_list=[]\n",
        "for i in real_data['Industry'].unique():\n",
        "  count_list.append(real_data.loc[real_data['Industry']==i])"
      ],
      "metadata": {
        "id": "Tyr6ap1hK7EM"
      },
      "execution_count": 36,
      "outputs": []
    },
    {
      "cell_type": "code",
      "execution_count": 37,
      "metadata": {
        "id": "Zb8PeMV51P6Y"
      },
      "outputs": [],
      "source": [
        "from ctgan import CTGANSynthesizer\n",
        "\n",
        "# Identifies all the discrete columns\n",
        "\n",
        "discrete_columns = [\n",
        "    'Industry',\n",
        "    'SubIndustry',\n",
        "    'Position',\n",
        "    'YrsExp',\n",
        "    'Proficiency'\n",
        "]\n",
        "\n",
        "# Initiates the CTGANSynthesizer and call its fit method to pass in the table\n",
        "ctgan = CTGANSynthesizer(epochs=10)\n",
        "sample_list=[]\n",
        "for i in count_list:\n",
        "  ctgan.fit(i, discrete_columns)\n",
        "  sample_list.append(ctgan.sample(1000))"
      ]
    },
    {
      "cell_type": "code",
      "source": [
        "for i in sample_list:\n",
        "  data_main=real_data.append(i)\n",
        "data_main.head(100)"
      ],
      "metadata": {
        "colab": {
          "base_uri": "https://localhost:8080/",
          "height": 424
        },
        "id": "YVEAra38Yag6",
        "outputId": "723f8a0e-b601-46e7-ba9e-d1e1664f66f8"
      },
      "execution_count": 38,
      "outputs": [
        {
          "output_type": "execute_result",
          "data": {
            "text/plain": [
              "   Industry SubIndustry                          Position  YrsExp  \\\n",
              "0         A          A1                   ACCOUNT_MANAGER       5   \n",
              "1         A          A1                    OFFICE_MANAGER       8   \n",
              "2         A          A1              OFFICE_ADMINISTRATOR       2   \n",
              "3         A          A1                   SENIOR_DIRECTOR      20   \n",
              "4         A          A1                    POLICY_ANALYST      16   \n",
              "..      ...         ...                               ...     ...   \n",
              "95        C          C3             CAPTIVE_ADMINISTRATOR      10   \n",
              "0         C          C1  PROFESSIONAL_DEVELOPMENT_MANAGER      10   \n",
              "1         C          C2            INSTRUCTIONAL_DESIGNER      13   \n",
              "2         C          C2                           AUDITOR      13   \n",
              "3         C          C1     EMPLOYEE_RELATIONS_SPECIALIST      13   \n",
              "\n",
              "     Proficiency  \n",
              "0         EXPERT  \n",
              "1         EXPERT  \n",
              "2       BEGINNER  \n",
              "3         EXPERT  \n",
              "4   INTERMEDIATE  \n",
              "..           ...  \n",
              "95  INTERMEDIATE  \n",
              "0         EXPERT  \n",
              "1   INTERMEDIATE  \n",
              "2         EXPERT  \n",
              "3         EXPERT  \n",
              "\n",
              "[100 rows x 5 columns]"
            ],
            "text/html": [
              "\n",
              "  <div id=\"df-f1d6f7be-5b8e-4d2f-a69b-b219b35f2578\">\n",
              "    <div class=\"colab-df-container\">\n",
              "      <div>\n",
              "<style scoped>\n",
              "    .dataframe tbody tr th:only-of-type {\n",
              "        vertical-align: middle;\n",
              "    }\n",
              "\n",
              "    .dataframe tbody tr th {\n",
              "        vertical-align: top;\n",
              "    }\n",
              "\n",
              "    .dataframe thead th {\n",
              "        text-align: right;\n",
              "    }\n",
              "</style>\n",
              "<table border=\"1\" class=\"dataframe\">\n",
              "  <thead>\n",
              "    <tr style=\"text-align: right;\">\n",
              "      <th></th>\n",
              "      <th>Industry</th>\n",
              "      <th>SubIndustry</th>\n",
              "      <th>Position</th>\n",
              "      <th>YrsExp</th>\n",
              "      <th>Proficiency</th>\n",
              "    </tr>\n",
              "  </thead>\n",
              "  <tbody>\n",
              "    <tr>\n",
              "      <th>0</th>\n",
              "      <td>A</td>\n",
              "      <td>A1</td>\n",
              "      <td>ACCOUNT_MANAGER</td>\n",
              "      <td>5</td>\n",
              "      <td>EXPERT</td>\n",
              "    </tr>\n",
              "    <tr>\n",
              "      <th>1</th>\n",
              "      <td>A</td>\n",
              "      <td>A1</td>\n",
              "      <td>OFFICE_MANAGER</td>\n",
              "      <td>8</td>\n",
              "      <td>EXPERT</td>\n",
              "    </tr>\n",
              "    <tr>\n",
              "      <th>2</th>\n",
              "      <td>A</td>\n",
              "      <td>A1</td>\n",
              "      <td>OFFICE_ADMINISTRATOR</td>\n",
              "      <td>2</td>\n",
              "      <td>BEGINNER</td>\n",
              "    </tr>\n",
              "    <tr>\n",
              "      <th>3</th>\n",
              "      <td>A</td>\n",
              "      <td>A1</td>\n",
              "      <td>SENIOR_DIRECTOR</td>\n",
              "      <td>20</td>\n",
              "      <td>EXPERT</td>\n",
              "    </tr>\n",
              "    <tr>\n",
              "      <th>4</th>\n",
              "      <td>A</td>\n",
              "      <td>A1</td>\n",
              "      <td>POLICY_ANALYST</td>\n",
              "      <td>16</td>\n",
              "      <td>INTERMEDIATE</td>\n",
              "    </tr>\n",
              "    <tr>\n",
              "      <th>...</th>\n",
              "      <td>...</td>\n",
              "      <td>...</td>\n",
              "      <td>...</td>\n",
              "      <td>...</td>\n",
              "      <td>...</td>\n",
              "    </tr>\n",
              "    <tr>\n",
              "      <th>95</th>\n",
              "      <td>C</td>\n",
              "      <td>C3</td>\n",
              "      <td>CAPTIVE_ADMINISTRATOR</td>\n",
              "      <td>10</td>\n",
              "      <td>INTERMEDIATE</td>\n",
              "    </tr>\n",
              "    <tr>\n",
              "      <th>0</th>\n",
              "      <td>C</td>\n",
              "      <td>C1</td>\n",
              "      <td>PROFESSIONAL_DEVELOPMENT_MANAGER</td>\n",
              "      <td>10</td>\n",
              "      <td>EXPERT</td>\n",
              "    </tr>\n",
              "    <tr>\n",
              "      <th>1</th>\n",
              "      <td>C</td>\n",
              "      <td>C2</td>\n",
              "      <td>INSTRUCTIONAL_DESIGNER</td>\n",
              "      <td>13</td>\n",
              "      <td>INTERMEDIATE</td>\n",
              "    </tr>\n",
              "    <tr>\n",
              "      <th>2</th>\n",
              "      <td>C</td>\n",
              "      <td>C2</td>\n",
              "      <td>AUDITOR</td>\n",
              "      <td>13</td>\n",
              "      <td>EXPERT</td>\n",
              "    </tr>\n",
              "    <tr>\n",
              "      <th>3</th>\n",
              "      <td>C</td>\n",
              "      <td>C1</td>\n",
              "      <td>EMPLOYEE_RELATIONS_SPECIALIST</td>\n",
              "      <td>13</td>\n",
              "      <td>EXPERT</td>\n",
              "    </tr>\n",
              "  </tbody>\n",
              "</table>\n",
              "<p>100 rows × 5 columns</p>\n",
              "</div>\n",
              "      <button class=\"colab-df-convert\" onclick=\"convertToInteractive('df-f1d6f7be-5b8e-4d2f-a69b-b219b35f2578')\"\n",
              "              title=\"Convert this dataframe to an interactive table.\"\n",
              "              style=\"display:none;\">\n",
              "        \n",
              "  <svg xmlns=\"http://www.w3.org/2000/svg\" height=\"24px\"viewBox=\"0 0 24 24\"\n",
              "       width=\"24px\">\n",
              "    <path d=\"M0 0h24v24H0V0z\" fill=\"none\"/>\n",
              "    <path d=\"M18.56 5.44l.94 2.06.94-2.06 2.06-.94-2.06-.94-.94-2.06-.94 2.06-2.06.94zm-11 1L8.5 8.5l.94-2.06 2.06-.94-2.06-.94L8.5 2.5l-.94 2.06-2.06.94zm10 10l.94 2.06.94-2.06 2.06-.94-2.06-.94-.94-2.06-.94 2.06-2.06.94z\"/><path d=\"M17.41 7.96l-1.37-1.37c-.4-.4-.92-.59-1.43-.59-.52 0-1.04.2-1.43.59L10.3 9.45l-7.72 7.72c-.78.78-.78 2.05 0 2.83L4 21.41c.39.39.9.59 1.41.59.51 0 1.02-.2 1.41-.59l7.78-7.78 2.81-2.81c.8-.78.8-2.07 0-2.86zM5.41 20L4 18.59l7.72-7.72 1.47 1.35L5.41 20z\"/>\n",
              "  </svg>\n",
              "      </button>\n",
              "      \n",
              "  <style>\n",
              "    .colab-df-container {\n",
              "      display:flex;\n",
              "      flex-wrap:wrap;\n",
              "      gap: 12px;\n",
              "    }\n",
              "\n",
              "    .colab-df-convert {\n",
              "      background-color: #E8F0FE;\n",
              "      border: none;\n",
              "      border-radius: 50%;\n",
              "      cursor: pointer;\n",
              "      display: none;\n",
              "      fill: #1967D2;\n",
              "      height: 32px;\n",
              "      padding: 0 0 0 0;\n",
              "      width: 32px;\n",
              "    }\n",
              "\n",
              "    .colab-df-convert:hover {\n",
              "      background-color: #E2EBFA;\n",
              "      box-shadow: 0px 1px 2px rgba(60, 64, 67, 0.3), 0px 1px 3px 1px rgba(60, 64, 67, 0.15);\n",
              "      fill: #174EA6;\n",
              "    }\n",
              "\n",
              "    [theme=dark] .colab-df-convert {\n",
              "      background-color: #3B4455;\n",
              "      fill: #D2E3FC;\n",
              "    }\n",
              "\n",
              "    [theme=dark] .colab-df-convert:hover {\n",
              "      background-color: #434B5C;\n",
              "      box-shadow: 0px 1px 3px 1px rgba(0, 0, 0, 0.15);\n",
              "      filter: drop-shadow(0px 1px 2px rgba(0, 0, 0, 0.3));\n",
              "      fill: #FFFFFF;\n",
              "    }\n",
              "  </style>\n",
              "\n",
              "      <script>\n",
              "        const buttonEl =\n",
              "          document.querySelector('#df-f1d6f7be-5b8e-4d2f-a69b-b219b35f2578 button.colab-df-convert');\n",
              "        buttonEl.style.display =\n",
              "          google.colab.kernel.accessAllowed ? 'block' : 'none';\n",
              "\n",
              "        async function convertToInteractive(key) {\n",
              "          const element = document.querySelector('#df-f1d6f7be-5b8e-4d2f-a69b-b219b35f2578');\n",
              "          const dataTable =\n",
              "            await google.colab.kernel.invokeFunction('convertToInteractive',\n",
              "                                                     [key], {});\n",
              "          if (!dataTable) return;\n",
              "\n",
              "          const docLinkHtml = 'Like what you see? Visit the ' +\n",
              "            '<a target=\"_blank\" href=https://colab.research.google.com/notebooks/data_table.ipynb>data table notebook</a>'\n",
              "            + ' to learn more about interactive tables.';\n",
              "          element.innerHTML = '';\n",
              "          dataTable['output_type'] = 'display_data';\n",
              "          await google.colab.output.renderOutput(dataTable, element);\n",
              "          const docLink = document.createElement('div');\n",
              "          docLink.innerHTML = docLinkHtml;\n",
              "          element.appendChild(docLink);\n",
              "        }\n",
              "      </script>\n",
              "    </div>\n",
              "  </div>\n",
              "  "
            ]
          },
          "metadata": {},
          "execution_count": 38
        }
      ]
    },
    {
      "cell_type": "code",
      "source": [
        "data_main['Industry'].unique()"
      ],
      "metadata": {
        "colab": {
          "base_uri": "https://localhost:8080/"
        },
        "id": "ue-cSEr1Zsc7",
        "outputId": "aacec3ec-1df8-4b28-dad1-55b42bca3ee2"
      },
      "execution_count": 39,
      "outputs": [
        {
          "output_type": "execute_result",
          "data": {
            "text/plain": [
              "array(['A', 'B', 'C'], dtype=object)"
            ]
          },
          "metadata": {},
          "execution_count": 39
        }
      ]
    }
  ]
}