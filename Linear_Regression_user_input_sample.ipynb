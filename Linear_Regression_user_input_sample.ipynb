{
  "nbformat": 4,
  "nbformat_minor": 0,
  "metadata": {
    "colab": {
      "name": "Linear Regression user input sample.ipynb",
      "provenance": [],
      "collapsed_sections": [],
      "mount_file_id": "12r6mAoGN3u4LaWR-qdFaRWv9yiKRh6vo",
      "authorship_tag": "ABX9TyMGLMQ9mhnDDTNtvYW5sIk+",
      "include_colab_link": true
    },
    "kernelspec": {
      "name": "python3",
      "display_name": "Python 3"
    },
    "language_info": {
      "name": "python"
    }
  },
  "cells": [
    {
      "cell_type": "markdown",
      "metadata": {
        "id": "view-in-github",
        "colab_type": "text"
      },
      "source": [
        "<a href=\"https://colab.research.google.com/github/Gauravkumarlokhande/Gauravkumarlokhande/blob/main/Linear_Regression_user_input_sample.ipynb\" target=\"_parent\"><img src=\"https://colab.research.google.com/assets/colab-badge.svg\" alt=\"Open In Colab\"/></a>"
      ]
    },
    {
      "cell_type": "markdown",
      "source": [
        "# **Linear Regression**"
      ],
      "metadata": {
        "id": "z-AYSrJeDoKD"
      }
    },
    {
      "cell_type": "code",
      "source": [
        "import pandas as pd\n",
        "import numpy as np"
      ],
      "metadata": {
        "id": "8QseOsZ-3iY6"
      },
      "execution_count": 1,
      "outputs": []
    },
    {
      "cell_type": "code",
      "source": [
        "data=pd.read_excel('/content/drive/MyDrive/st data.xlsx')"
      ],
      "metadata": {
        "id": "TZL2oQNu3oZw"
      },
      "execution_count": 3,
      "outputs": []
    },
    {
      "cell_type": "code",
      "source": [
        "data.drop(columns=['Year'],inplace=True)"
      ],
      "metadata": {
        "id": "9Rs9gg_OJgq2"
      },
      "execution_count": 4,
      "outputs": []
    },
    {
      "cell_type": "code",
      "source": [
        "dept=str(input('Please enter the name of your dependent variable (same as given in the data): '))\n",
        "y=data[dept]\n",
        "x=data.drop(columns=[dept])\n",
        "\n",
        "test=float(input('please select the size for testing (should be a decimal between 0 and 1): '))\n",
        "state=int(input('please specify the random state: '))\n",
        "import random\n",
        "random.seed(10)\n",
        "from sklearn.model_selection import train_test_split as tst\n",
        "x_train,x_test,y_train,y_test=tst(x,y,random_state=state,test_size=test)\n",
        "print('----------------------------------------------------------------------------------------------')\n",
        "print('shape of x_train= {}'.format(x_train.shape))\n",
        "print('shape of x_test= {}'.format(x_test.shape))\n",
        "print('shape of y_train= {}'.format(y_train.shape))\n",
        "print('shape of y_test= {}'.format(y_test.shape))\n",
        "print('----------------------------------------------------------------------------------------------')\n",
        "\n",
        "choice=str(input('Do you want to scale the data (yes or no): '))\n",
        "if choice=='yes':\n",
        "    from sklearn.preprocessing import StandardScaler as STD\n",
        "    st=STD()\n",
        "    x_train=st.fit_transform(x_train)\n",
        "    x_test=st.fit_transform(x_test)\n",
        "else:\n",
        "    print('You have choosen not to scale the data')\n",
        "print('-----------------------------------------------------------------------------------------------')\n",
        "from sklearn.linear_model import LinearRegression as LR\n",
        "lr=LR()\n",
        "lr.fit(x_train,y_train)\n",
        "print('------------------------------------------------------------------------------------------------')\n",
        "print('Accuracy score for training data: ', lr.score(x_train,y_train))\n",
        "print('Accuracy score for testing data: ',lr.score(x_test,y_test))\n",
        "\n",
        "y_pred_train=lr.predict(x_train)\n",
        "y_pred_test=lr.predict(x_test)\n",
        "\n",
        "\n",
        "from sklearn.metrics import mean_squared_error\n",
        "mse=mean_squared_error(y_test,y_pred_test)\n",
        "rmse=np.sqrt(mse)\n",
        "\n",
        "print('Mean squared error= ',mse)\n",
        "print('Root Mean squared error= ',rmse)\n",
        "\n",
        "from sklearn.metrics import r2_score\n",
        "r2=r2_score(y_test,y_pred_test)\n",
        "print('R-Squared value= ',r2)\n",
        "\n",
        "a=x_test.shape\n",
        "adjust=1-((1-r2)*(a[0]-1)/(a[0]-1-a[1]))\n",
        "print('Adjusted-R Square= ',adjust)\n",
        "\n",
        "\n"
      ],
      "metadata": {
        "colab": {
          "base_uri": "https://localhost:8080/"
        },
        "id": "O3DoP5s1_Lt_",
        "outputId": "6dff373b-247d-4272-ac57-cbd4960ade8c"
      },
      "execution_count": 5,
      "outputs": [
        {
          "output_type": "stream",
          "name": "stdout",
          "text": [
            "Please enter the name of your dependent variable (same as given in the data): Margin(in lakhs)\n",
            "please select the size for testing (should be a decimal between 0 and 1): 0.3\n",
            "please specify the random state: 101\n",
            "----------------------------------------------------------------------------------------------\n",
            "shape of x_train= (50, 12)\n",
            "shape of x_test= (22, 12)\n",
            "shape of y_train= (50,)\n",
            "shape of y_test= (22,)\n",
            "----------------------------------------------------------------------------------------------\n",
            "Do you want to scale the data (yes or no): no\n",
            "You have choosen not to scale the data\n",
            "-----------------------------------------------------------------------------------------------\n",
            "------------------------------------------------------------------------------------------------\n",
            "Accuracy score for training data:  0.8871802513671666\n",
            "Accuracy score for testing data:  0.6288491228425491\n",
            "Mean squared error=  90.05199708933999\n",
            "Root Mean squared error=  9.489573072027001\n",
            "R-Squared value=  0.6288491228425491\n",
            "Adjusted-R Square=  0.13398128663261455\n"
          ]
        }
      ]
    }
  ]
}