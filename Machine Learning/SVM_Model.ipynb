{
  "nbformat": 4,
  "nbformat_minor": 0,
  "metadata": {
    "colab": {
      "name": "SVM Model.ipynb",
      "provenance": [],
      "collapsed_sections": [],
      "mount_file_id": "1YKfsf2WHLciIO-i9AkDqXFeI2v-dpefD",
      "authorship_tag": "ABX9TyMOLScMs2fqCdxnsAu8pVe0",
      "include_colab_link": true
    },
    "kernelspec": {
      "name": "python3",
      "display_name": "Python 3"
    },
    "language_info": {
      "name": "python"
    }
  },
  "cells": [
    {
      "cell_type": "markdown",
      "metadata": {
        "id": "view-in-github",
        "colab_type": "text"
      },
      "source": [
        "<a href=\"https://colab.research.google.com/github/Gauravkumarlokhande/Gauravkumarlokhande/blob/main/SVM_Model.ipynb\" target=\"_parent\"><img src=\"https://colab.research.google.com/assets/colab-badge.svg\" alt=\"Open In Colab\"/></a>"
      ]
    },
    {
      "cell_type": "code",
      "execution_count": null,
      "metadata": {
        "id": "JhrZyyI_-EFW"
      },
      "outputs": [],
      "source": [
        "import pandas as pd\n",
        "import warnings\n",
        "warnings.filterwarnings('ignore')"
      ]
    },
    {
      "cell_type": "code",
      "source": [
        "data=pd.read_csv('/content/drive/MyDrive/Red Wine Quality.csv')"
      ],
      "metadata": {
        "id": "eU0FuVVz_G_U"
      },
      "execution_count": null,
      "outputs": []
    },
    {
      "cell_type": "code",
      "source": [
        "data.head()"
      ],
      "metadata": {
        "colab": {
          "base_uri": "https://localhost:8080/",
          "height": 267
        },
        "id": "GTguKscr_vmg",
        "outputId": "1c8588a7-7fd0-475b-e02b-be52912d425d"
      },
      "execution_count": null,
      "outputs": [
        {
          "output_type": "execute_result",
          "data": {
            "text/html": [
              "\n",
              "  <div id=\"df-e3e59da2-9e36-4166-8e52-72be79093495\">\n",
              "    <div class=\"colab-df-container\">\n",
              "      <div>\n",
              "<style scoped>\n",
              "    .dataframe tbody tr th:only-of-type {\n",
              "        vertical-align: middle;\n",
              "    }\n",
              "\n",
              "    .dataframe tbody tr th {\n",
              "        vertical-align: top;\n",
              "    }\n",
              "\n",
              "    .dataframe thead th {\n",
              "        text-align: right;\n",
              "    }\n",
              "</style>\n",
              "<table border=\"1\" class=\"dataframe\">\n",
              "  <thead>\n",
              "    <tr style=\"text-align: right;\">\n",
              "      <th></th>\n",
              "      <th>fixed acidity</th>\n",
              "      <th>volatile acidity</th>\n",
              "      <th>citric acid</th>\n",
              "      <th>residual sugar</th>\n",
              "      <th>chlorides</th>\n",
              "      <th>free sulfur dioxide</th>\n",
              "      <th>total sulfur dioxide</th>\n",
              "      <th>density</th>\n",
              "      <th>pH</th>\n",
              "      <th>sulphates</th>\n",
              "      <th>alcohol</th>\n",
              "      <th>quality</th>\n",
              "    </tr>\n",
              "  </thead>\n",
              "  <tbody>\n",
              "    <tr>\n",
              "      <th>0</th>\n",
              "      <td>7.4</td>\n",
              "      <td>0.70</td>\n",
              "      <td>0.00</td>\n",
              "      <td>1.9</td>\n",
              "      <td>0.076</td>\n",
              "      <td>11.0</td>\n",
              "      <td>34.0</td>\n",
              "      <td>0.9978</td>\n",
              "      <td>3.51</td>\n",
              "      <td>0.56</td>\n",
              "      <td>9.4</td>\n",
              "      <td>5</td>\n",
              "    </tr>\n",
              "    <tr>\n",
              "      <th>1</th>\n",
              "      <td>7.8</td>\n",
              "      <td>0.88</td>\n",
              "      <td>0.00</td>\n",
              "      <td>2.6</td>\n",
              "      <td>0.098</td>\n",
              "      <td>25.0</td>\n",
              "      <td>67.0</td>\n",
              "      <td>0.9968</td>\n",
              "      <td>3.20</td>\n",
              "      <td>0.68</td>\n",
              "      <td>9.8</td>\n",
              "      <td>5</td>\n",
              "    </tr>\n",
              "    <tr>\n",
              "      <th>2</th>\n",
              "      <td>7.8</td>\n",
              "      <td>0.76</td>\n",
              "      <td>0.04</td>\n",
              "      <td>2.3</td>\n",
              "      <td>0.092</td>\n",
              "      <td>15.0</td>\n",
              "      <td>54.0</td>\n",
              "      <td>0.9970</td>\n",
              "      <td>3.26</td>\n",
              "      <td>0.65</td>\n",
              "      <td>9.8</td>\n",
              "      <td>5</td>\n",
              "    </tr>\n",
              "    <tr>\n",
              "      <th>3</th>\n",
              "      <td>11.2</td>\n",
              "      <td>0.28</td>\n",
              "      <td>0.56</td>\n",
              "      <td>1.9</td>\n",
              "      <td>0.075</td>\n",
              "      <td>17.0</td>\n",
              "      <td>60.0</td>\n",
              "      <td>0.9980</td>\n",
              "      <td>3.16</td>\n",
              "      <td>0.58</td>\n",
              "      <td>9.8</td>\n",
              "      <td>6</td>\n",
              "    </tr>\n",
              "    <tr>\n",
              "      <th>4</th>\n",
              "      <td>7.4</td>\n",
              "      <td>0.70</td>\n",
              "      <td>0.00</td>\n",
              "      <td>1.9</td>\n",
              "      <td>0.076</td>\n",
              "      <td>11.0</td>\n",
              "      <td>34.0</td>\n",
              "      <td>0.9978</td>\n",
              "      <td>3.51</td>\n",
              "      <td>0.56</td>\n",
              "      <td>9.4</td>\n",
              "      <td>5</td>\n",
              "    </tr>\n",
              "  </tbody>\n",
              "</table>\n",
              "</div>\n",
              "      <button class=\"colab-df-convert\" onclick=\"convertToInteractive('df-e3e59da2-9e36-4166-8e52-72be79093495')\"\n",
              "              title=\"Convert this dataframe to an interactive table.\"\n",
              "              style=\"display:none;\">\n",
              "        \n",
              "  <svg xmlns=\"http://www.w3.org/2000/svg\" height=\"24px\"viewBox=\"0 0 24 24\"\n",
              "       width=\"24px\">\n",
              "    <path d=\"M0 0h24v24H0V0z\" fill=\"none\"/>\n",
              "    <path d=\"M18.56 5.44l.94 2.06.94-2.06 2.06-.94-2.06-.94-.94-2.06-.94 2.06-2.06.94zm-11 1L8.5 8.5l.94-2.06 2.06-.94-2.06-.94L8.5 2.5l-.94 2.06-2.06.94zm10 10l.94 2.06.94-2.06 2.06-.94-2.06-.94-.94-2.06-.94 2.06-2.06.94z\"/><path d=\"M17.41 7.96l-1.37-1.37c-.4-.4-.92-.59-1.43-.59-.52 0-1.04.2-1.43.59L10.3 9.45l-7.72 7.72c-.78.78-.78 2.05 0 2.83L4 21.41c.39.39.9.59 1.41.59.51 0 1.02-.2 1.41-.59l7.78-7.78 2.81-2.81c.8-.78.8-2.07 0-2.86zM5.41 20L4 18.59l7.72-7.72 1.47 1.35L5.41 20z\"/>\n",
              "  </svg>\n",
              "      </button>\n",
              "      \n",
              "  <style>\n",
              "    .colab-df-container {\n",
              "      display:flex;\n",
              "      flex-wrap:wrap;\n",
              "      gap: 12px;\n",
              "    }\n",
              "\n",
              "    .colab-df-convert {\n",
              "      background-color: #E8F0FE;\n",
              "      border: none;\n",
              "      border-radius: 50%;\n",
              "      cursor: pointer;\n",
              "      display: none;\n",
              "      fill: #1967D2;\n",
              "      height: 32px;\n",
              "      padding: 0 0 0 0;\n",
              "      width: 32px;\n",
              "    }\n",
              "\n",
              "    .colab-df-convert:hover {\n",
              "      background-color: #E2EBFA;\n",
              "      box-shadow: 0px 1px 2px rgba(60, 64, 67, 0.3), 0px 1px 3px 1px rgba(60, 64, 67, 0.15);\n",
              "      fill: #174EA6;\n",
              "    }\n",
              "\n",
              "    [theme=dark] .colab-df-convert {\n",
              "      background-color: #3B4455;\n",
              "      fill: #D2E3FC;\n",
              "    }\n",
              "\n",
              "    [theme=dark] .colab-df-convert:hover {\n",
              "      background-color: #434B5C;\n",
              "      box-shadow: 0px 1px 3px 1px rgba(0, 0, 0, 0.15);\n",
              "      filter: drop-shadow(0px 1px 2px rgba(0, 0, 0, 0.3));\n",
              "      fill: #FFFFFF;\n",
              "    }\n",
              "  </style>\n",
              "\n",
              "      <script>\n",
              "        const buttonEl =\n",
              "          document.querySelector('#df-e3e59da2-9e36-4166-8e52-72be79093495 button.colab-df-convert');\n",
              "        buttonEl.style.display =\n",
              "          google.colab.kernel.accessAllowed ? 'block' : 'none';\n",
              "\n",
              "        async function convertToInteractive(key) {\n",
              "          const element = document.querySelector('#df-e3e59da2-9e36-4166-8e52-72be79093495');\n",
              "          const dataTable =\n",
              "            await google.colab.kernel.invokeFunction('convertToInteractive',\n",
              "                                                     [key], {});\n",
              "          if (!dataTable) return;\n",
              "\n",
              "          const docLinkHtml = 'Like what you see? Visit the ' +\n",
              "            '<a target=\"_blank\" href=https://colab.research.google.com/notebooks/data_table.ipynb>data table notebook</a>'\n",
              "            + ' to learn more about interactive tables.';\n",
              "          element.innerHTML = '';\n",
              "          dataTable['output_type'] = 'display_data';\n",
              "          await google.colab.output.renderOutput(dataTable, element);\n",
              "          const docLink = document.createElement('div');\n",
              "          docLink.innerHTML = docLinkHtml;\n",
              "          element.appendChild(docLink);\n",
              "        }\n",
              "      </script>\n",
              "    </div>\n",
              "  </div>\n",
              "  "
            ],
            "text/plain": [
              "   fixed acidity  volatile acidity  citric acid  residual sugar  chlorides  \\\n",
              "0            7.4              0.70         0.00             1.9      0.076   \n",
              "1            7.8              0.88         0.00             2.6      0.098   \n",
              "2            7.8              0.76         0.04             2.3      0.092   \n",
              "3           11.2              0.28         0.56             1.9      0.075   \n",
              "4            7.4              0.70         0.00             1.9      0.076   \n",
              "\n",
              "   free sulfur dioxide  total sulfur dioxide  density    pH  sulphates  \\\n",
              "0                 11.0                  34.0   0.9978  3.51       0.56   \n",
              "1                 25.0                  67.0   0.9968  3.20       0.68   \n",
              "2                 15.0                  54.0   0.9970  3.26       0.65   \n",
              "3                 17.0                  60.0   0.9980  3.16       0.58   \n",
              "4                 11.0                  34.0   0.9978  3.51       0.56   \n",
              "\n",
              "   alcohol  quality  \n",
              "0      9.4        5  \n",
              "1      9.8        5  \n",
              "2      9.8        5  \n",
              "3      9.8        6  \n",
              "4      9.4        5  "
            ]
          },
          "metadata": {},
          "execution_count": 15
        }
      ]
    },
    {
      "cell_type": "code",
      "source": [
        "data['quality'].unique()"
      ],
      "metadata": {
        "colab": {
          "base_uri": "https://localhost:8080/"
        },
        "id": "F0P__i5oAXJ8",
        "outputId": "a6f255cc-8d40-4d65-e27c-d5de8b6ea070"
      },
      "execution_count": null,
      "outputs": [
        {
          "output_type": "execute_result",
          "data": {
            "text/plain": [
              "array([5, 6, 7, 4, 8, 3])"
            ]
          },
          "metadata": {},
          "execution_count": 16
        }
      ]
    },
    {
      "cell_type": "code",
      "source": [
        "def unique(value):\n",
        "  if value<=4:\n",
        "    return 0\n",
        "  elif value>4:\n",
        "    return 1"
      ],
      "metadata": {
        "id": "zJHFa0eCAXOG"
      },
      "execution_count": null,
      "outputs": []
    },
    {
      "cell_type": "code",
      "source": [
        "data['quality']=data['quality'].apply(unique)"
      ],
      "metadata": {
        "id": "6o88iJ7_AXSM"
      },
      "execution_count": null,
      "outputs": []
    },
    {
      "cell_type": "markdown",
      "source": [
        "# ***Support Vector Machine Classifier ***"
      ],
      "metadata": {
        "id": "8jMENzXp_nQy"
      }
    },
    {
      "cell_type": "code",
      "source": [
        "dept=str(input('Please enter the name of your dependent variable (same as given in the data): '))\n",
        "y=data[dept]\n",
        "x=data.drop(columns=[dept])\n",
        "\n",
        "test=float(input('please select the size for testing (should be a decimal between 0 and 1): '))\n",
        "state=int(input('please specify the random state: '))\n",
        "\n",
        "from sklearn.model_selection import train_test_split as tst\n",
        "x_train,x_test,y_train,y_test=tst(x,y,random_state=state,test_size=test)\n",
        "print('----------------------------------------------------------------------------------------------')\n",
        "print('shape of x_train= {}'.format(x_train.shape))\n",
        "print('shape of x_test= {}'.format(x_test.shape))\n",
        "print('shape of y_train= {}'.format(y_train.shape))\n",
        "print('shape of y_test= {}'.format(y_test.shape))\n",
        "print('----------------------------------------------------------------------------------------------')\n",
        "\n",
        "choice=str(input('Do you want to scale the data (yes or no): '))\n",
        "if choice=='yes':\n",
        "    from sklearn.preprocessing import StandardScaler as STD\n",
        "    st=STD()\n",
        "    x_train=st.fit_transform(x_train)\n",
        "    x_test=st.fit_transform(x_test)\n",
        "else:\n",
        "    print('You have choosen not to scale the data')\n",
        "print('-----------------------------------------------------------------------------------------------')\n",
        "from sklearn.svm import SVC\n",
        "sv=SVC()\n",
        "sv.fit(x_train,y_train)\n",
        "print('------------------------------------------------------------------------------------------------')\n",
        "print('Accuracy score for training data: ', sv.score(x_train,y_train))\n",
        "print('Accuracy score for testing data: ',sv.score(x_test,y_test))\n",
        "\n",
        "y_pred_train=sv.predict(x_train)\n",
        "y_pred_test=sv.predict(x_test)\n",
        "\n",
        "from sklearn.metrics import classification_report, auc, roc_curve, confusion_matrix\n",
        "print('--------------------------------------------------------------------------------------------------')\n",
        "print('Classification report for training data')\n",
        "print(classification_report(y_train,y_pred_train))\n",
        "print('--------------------------------------------------------------------------------------------------')\n",
        "\n",
        "print('Classification report for testing data')\n",
        "print(classification_report(y_test,y_pred_test))\n",
        "print('--------------------------------------------------------------------------------------------------')\n",
        "\n",
        "print('Confusion matrix')\n",
        "print(confusion_matrix(y_test,y_pred_test))\n",
        "print('--------------------------------------------------------------------------------------------------')\n",
        "\n",
        "import matplotlib.pyplot as plt\n",
        "\n",
        "sv_fpr,sv_tpr,threshold=roc_curve(y_test,y_pred_test)\n",
        "sv_fpr_train,sv_tpr_train,threshold=roc_curve(y_train,y_pred_train)\n",
        "\n",
        "auc_sv=auc(sv_fpr,sv_tpr)\n",
        "auc_sv_train=auc(sv_fpr_train,sv_tpr_train)\n",
        "\n",
        "plt.figure(figsize=(10,5))\n",
        "plt.plot(sv_fpr,sv_tpr,marker='.',color='red')\n",
        "plt.plot(sv_fpr_train,sv_tpr_train,marker='*',color='blue')\n",
        "\n",
        "plt.xlabel('False Positive Rate---->')\n",
        "plt.ylabel('True Positive Rate---->')\n"
      ],
      "metadata": {
        "colab": {
          "base_uri": "https://localhost:8080/",
          "height": 1000
        },
        "id": "yOhj2weL_xSJ",
        "outputId": "380357bb-8f8a-4876-c1ff-213a47b95db0"
      },
      "execution_count": null,
      "outputs": [
        {
          "output_type": "stream",
          "name": "stdout",
          "text": [
            "Please enter the name of your dependent variable (same as given in the data): quality\n",
            "please select the size for testing (should be a decimal between 0 and 1): 0.3\n",
            "please specify the random state: 101\n",
            "----------------------------------------------------------------------------------------------\n",
            "shape of x_train= (1119, 11)\n",
            "shape of x_test= (480, 11)\n",
            "shape of y_train= (1119,)\n",
            "shape of y_test= (480,)\n",
            "----------------------------------------------------------------------------------------------\n",
            "Do you want to scale the data (yes or no): no\n",
            "You have choosen not to scale the data\n",
            "-----------------------------------------------------------------------------------------------\n",
            "------------------------------------------------------------------------------------------------\n",
            "Accuracy score for training data:  0.9651474530831099\n",
            "Accuracy score for testing data:  0.95\n",
            "--------------------------------------------------------------------------------------------------\n",
            "Classification report for training data\n",
            "              precision    recall  f1-score   support\n",
            "\n",
            "           0       0.00      0.00      0.00        39\n",
            "           1       0.97      1.00      0.98      1080\n",
            "\n",
            "    accuracy                           0.97      1119\n",
            "   macro avg       0.48      0.50      0.49      1119\n",
            "weighted avg       0.93      0.97      0.95      1119\n",
            "\n",
            "--------------------------------------------------------------------------------------------------\n",
            "Classification report for testing data\n",
            "              precision    recall  f1-score   support\n",
            "\n",
            "           0       0.00      0.00      0.00        24\n",
            "           1       0.95      1.00      0.97       456\n",
            "\n",
            "    accuracy                           0.95       480\n",
            "   macro avg       0.47      0.50      0.49       480\n",
            "weighted avg       0.90      0.95      0.93       480\n",
            "\n",
            "--------------------------------------------------------------------------------------------------\n",
            "Confusion matrix\n",
            "[[  0  24]\n",
            " [  0 456]]\n"
          ]
        },
        {
          "output_type": "execute_result",
          "data": {
            "text/plain": [
              "Text(0, 0.5, 'True Positive Rate---->')"
            ]
          },
          "metadata": {},
          "execution_count": 26
        },
        {
          "output_type": "display_data",
          "data": {
            "image/png": "[encoded data removed]",
            "text/plain": [
              "<Figure size 720x360 with 1 Axes>"
            ]
          },
          "metadata": {
            "needs_background": "light"
          }
        }
      ]
    },
    {
      "cell_type": "code",
      "source": [
        ""
      ],
      "metadata": {
        "id": "R8c1lQe7AFR6"
      },
      "execution_count": null,
      "outputs": []
    }
  ]
}
