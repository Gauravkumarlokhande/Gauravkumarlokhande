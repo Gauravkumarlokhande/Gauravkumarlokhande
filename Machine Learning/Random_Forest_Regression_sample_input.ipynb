{
  "nbformat": 4,
  "nbformat_minor": 0,
  "metadata": {
    "colab": {
      "name": "Random Forest Regression sample input.ipynb",
      "provenance": [],
      "collapsed_sections": [],
      "mount_file_id": "1Wg-QxcwkAyBbJvorZW7_fEqyyiJdcOPy",
      "authorship_tag": "ABX9TyOQHCD3Meb9CxGSTMtXMOLw",
      "include_colab_link": true
    },
    "kernelspec": {
      "name": "python3",
      "display_name": "Python 3"
    },
    "language_info": {
      "name": "python"
    }
  },
  "cells": [
    {
      "cell_type": "markdown",
      "metadata": {
        "id": "view-in-github",
        "colab_type": "text"
      },
      "source": [
        "<a href=\"https://colab.research.google.com/github/Gauravkumarlokhande/Gauravkumarlokhande/blob/main/Random_Forest_Regression_sample_input.ipynb\" target=\"_parent\"><img src=\"https://colab.research.google.com/assets/colab-badge.svg\" alt=\"Open In Colab\"/></a>"
      ]
    },
    {
      "cell_type": "markdown",
      "source": [
        "# **Random Forest Regressor**"
      ],
      "metadata": {
        "id": "Myqpqm7sAXt9"
      }
    },
    {
      "cell_type": "code",
      "source": [
        "import pandas as pd\n",
        "import numpy as np"
      ],
      "metadata": {
        "id": "8QseOsZ-3iY6"
      },
      "execution_count": 1,
      "outputs": []
    },
    {
      "cell_type": "code",
      "source": [
        "data=pd.read_excel('/content/drive/MyDrive/st data.xlsx')"
      ],
      "metadata": {
        "id": "TZL2oQNu3oZw"
      },
      "execution_count": 6,
      "outputs": []
    },
    {
      "cell_type": "code",
      "source": [
        "data.drop(columns=['Year'],inplace=True)"
      ],
      "metadata": {
        "id": "9Rs9gg_OJgq2"
      },
      "execution_count": 7,
      "outputs": []
    },
    {
      "cell_type": "code",
      "source": [
        ""
      ],
      "metadata": {
        "id": "z0_Q151xCIOD"
      },
      "execution_count": null,
      "outputs": []
    },
    {
      "cell_type": "code",
      "source": [
        "dept=str(input('Please enter the name of your dependent variable (same as given in the data): '))\n",
        "y=data[dept]\n",
        "x=data.drop(columns=[dept])\n",
        "\n",
        "test=float(input('please select the size for testing (should be a decimal between 0 and 1): '))\n",
        "state=int(input('please specify the random state: '))\n",
        "import random\n",
        "random.seed(10)\n",
        "from sklearn.model_selection import train_test_split as tst\n",
        "x_train,x_test,y_train,y_test=tst(x,y,random_state=state,test_size=test)\n",
        "print('----------------------------------------------------------------------------------------------')\n",
        "print('shape of x_train= {}'.format(x_train.shape))\n",
        "print('shape of x_test= {}'.format(x_test.shape))\n",
        "print('shape of y_train= {}'.format(y_train.shape))\n",
        "print('shape of y_test= {}'.format(y_test.shape))\n",
        "print('----------------------------------------------------------------------------------------------')\n",
        "\n",
        "choice=str(input('Do you want to scale the data (yes or no): '))\n",
        "if choice=='yes':\n",
        "    from sklearn.preprocessing import StandardScaler as STD\n",
        "    st=STD()\n",
        "    x_train=st.fit_transform(x_train)\n",
        "    x_test=st.fit_transform(x_test)\n",
        "else:\n",
        "    print('You have choosen not to scale the data')\n",
        "print('-----------------------------------------------------------------------------------------------')\n",
        "from sklearn.ensemble import RandomForestRegressor as RFR\n",
        "rf=RFR()\n",
        "rf.fit(x_train,y_train)\n",
        "print('------------------------------------------------------------------------------------------------')\n",
        "print('Accuracy score for training data: ', rf.score(x_train,y_train))\n",
        "print('Accuracy score for testing data: ',rf.score(x_test,y_test))\n",
        "\n",
        "y_pred_train=rf.predict(x_train)\n",
        "y_pred_test=rf.predict(x_test)\n",
        "\n",
        "\n",
        "from sklearn.metrics import mean_squared_error\n",
        "mse=mean_squared_error(y_test,y_pred_test)\n",
        "rmse=np.sqrt(mse)\n",
        "\n",
        "print('Mean squared error= ',mse)\n",
        "print('Root Mean squared error= ',rmse)\n",
        "\n",
        "from sklearn.metrics import r2_score\n",
        "r2=r2_score(y_test,y_pred_test)\n",
        "print('R-Squared value= ',r2)\n",
        "\n",
        "a=x_test.shape\n",
        "adjust=1-((1-r2)*(a[0]-1)/(a[0]-1-a[1]))\n",
        "print('Adjusted-R Square= ',adjust)\n",
        "\n",
        "\n"
      ],
      "metadata": {
        "colab": {
          "base_uri": "https://localhost:8080/"
        },
        "id": "O3DoP5s1_Lt_",
        "outputId": "f838fd3d-718f-4fdc-b614-376284ea8e22"
      },
      "execution_count": 8,
      "outputs": [
        {
          "output_type": "stream",
          "name": "stdout",
          "text": [
            "Please enter the name of your dependent variable (same as given in the data): Margin(in lakhs)\n",
            "please select the size for testing (should be a decimal between 0 and 1): 0.3\n",
            "please specify the random state: 101\n",
            "----------------------------------------------------------------------------------------------\n",
            "shape of x_train= (50, 12)\n",
            "shape of x_test= (22, 12)\n",
            "shape of y_train= (50,)\n",
            "shape of y_test= (22,)\n",
            "----------------------------------------------------------------------------------------------\n",
            "Do you want to scale the data (yes or no): no\n",
            "You have choosen not to scale the data\n",
            "-----------------------------------------------------------------------------------------------\n",
            "------------------------------------------------------------------------------------------------\n",
            "Accuracy score for training data:  0.9554313459864617\n",
            "Accuracy score for testing data:  0.7474861968412905\n",
            "Mean squared error=  61.26719258006687\n",
            "Root Mean squared error=  7.827336237831289\n",
            "R-Squared value=  0.7474861968412905\n",
            "Adjusted-R Square=  0.4108011259630111\n"
          ]
        }
      ]
    }
  ]
}
