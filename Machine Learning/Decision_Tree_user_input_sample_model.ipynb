{
  "nbformat": 4,
  "nbformat_minor": 0,
  "metadata": {
    "colab": {
      "name": "Decision Tree user input sample model.ipynb",
      "provenance": [],
      "collapsed_sections": [],
      "mount_file_id": "1UI6aOLcgrfsLLmKeyY1bTVs6yyTK5maa",
      "authorship_tag": "ABX9TyOp1fq1H8Puxp2aR/ndSnM+",
      "include_colab_link": true
    },
    "kernelspec": {
      "name": "python3",
      "display_name": "Python 3"
    },
    "language_info": {
      "name": "python"
    }
  },
  "cells": [
    {
      "cell_type": "markdown",
      "metadata": {
        "id": "view-in-github",
        "colab_type": "text"
      },
      "source": [
        "<a href=\"https://colab.research.google.com/github/Gauravkumarlokhande/Gauravkumarlokhande/blob/main/Decision_Tree_user_input_sample_model.ipynb\" target=\"_parent\"><img src=\"https://colab.research.google.com/assets/colab-badge.svg\" alt=\"Open In Colab\"/></a>"
      ]
    },
    {
      "cell_type": "code",
      "execution_count": null,
      "metadata": {
        "id": "uyawyj59E93i"
      },
      "outputs": [],
      "source": [
        "import pandas as pd\n",
        "import warnings\n",
        "warnings.filterwarnings('ignore')"
      ]
    },
    {
      "cell_type": "code",
      "source": [
        "data=pd.read_csv('/content/drive/MyDrive/Red Wine Quality.csv')"
      ],
      "metadata": {
        "id": "ksy9AwhwFHvQ"
      },
      "execution_count": null,
      "outputs": []
    },
    {
      "cell_type": "code",
      "source": [
        "\n",
        "def unique(value):\n",
        "  if value<=4:\n",
        "    return 0\n",
        "  elif value>4:\n",
        "    return 1"
      ],
      "metadata": {
        "id": "JfXd_kFpFYCv"
      },
      "execution_count": null,
      "outputs": []
    },
    {
      "cell_type": "code",
      "source": [
        "data['quality']=data['quality'].apply(unique)"
      ],
      "metadata": {
        "id": "JsRW4HAcFjRT"
      },
      "execution_count": null,
      "outputs": []
    },
    {
      "cell_type": "code",
      "source": [
        ""
      ],
      "metadata": {
        "id": "gIxX3Scc9uPO"
      },
      "execution_count": null,
      "outputs": []
    },
    {
      "cell_type": "markdown",
      "source": [
        "# ***Decision tree classifier***"
      ],
      "metadata": {
        "id": "tko8-pzu9xWY"
      }
    },
    {
      "cell_type": "code",
      "source": [
        "dept=str(input('Please enter the name of your dependent variable (same as given in the data): '))\n",
        "y=data[dept]\n",
        "x=data.drop(columns=[dept])\n",
        "\n",
        "test=float(input('please select the size for testing (should be a decimal between 0 and 1): '))\n",
        "state=int(input('please specify the random state: '))\n",
        "import random\n",
        "random.seed(10)\n",
        "from sklearn.model_selection import train_test_split as tst\n",
        "x_train,x_test,y_train,y_test=tst(x,y,random_state=state,test_size=test)\n",
        "print('----------------------------------------------------------------------------------------------')\n",
        "print('shape of x_train= {}'.format(x_train.shape))\n",
        "print('shape of x_test= {}'.format(x_test.shape))\n",
        "print('shape of y_train= {}'.format(y_train.shape))\n",
        "print('shape of y_test= {}'.format(y_test.shape))\n",
        "print('----------------------------------------------------------------------------------------------')\n",
        "\n",
        "choice=str(input('Do you want to scale the data (yes or no): '))\n",
        "if choice=='yes':\n",
        "    from sklearn.preprocessing import StandardScaler as STD\n",
        "    st=STD()\n",
        "    x_train=st.fit_transform(x_train)\n",
        "    x_test=st.fit_transform(x_test)\n",
        "else:\n",
        "    print('You have choosen not to scale the data')\n",
        "print('-----------------------------------------------------------------------------------------------')\n",
        "from sklearn.tree import DecisionTreeClassifier as DTC\n",
        "dt=DTC()\n",
        "dt.fit(x_train,y_train)\n",
        "print('------------------------------------------------------------------------------------------------')\n",
        "print('Accuracy score for training data: ', dt.score(x_train,y_train))\n",
        "print('Accuracy score for testing data: ',dt.score(x_test,y_test))\n",
        "\n",
        "y_pred_train=dt.predict(x_train)\n",
        "y_pred_test=dt.predict(x_test)\n",
        "\n",
        "from sklearn.metrics import classification_report, auc, roc_curve, confusion_matrix\n",
        "print('--------------------------------------------------------------------------------------------------')\n",
        "print('Classification report for training data')\n",
        "print(classification_report(y_train,y_pred_train))\n",
        "print('--------------------------------------------------------------------------------------------------')\n",
        "\n",
        "print('Classification report for testing data')\n",
        "print(classification_report(y_test,y_pred_test))\n",
        "print('--------------------------------------------------------------------------------------------------')\n",
        "\n",
        "print('Confusion matrix')\n",
        "print(confusion_matrix(y_test,y_pred_test))\n",
        "print('--------------------------------------------------------------------------------------------------')\n",
        "\n",
        "import matplotlib.pyplot as plt\n",
        "\n",
        "dt_fpr,dt_tpr,threshold=roc_curve(y_test,y_pred_test)\n",
        "dt_fpr_train,dt_tpr_train,threshold=roc_curve(y_train,y_pred_train)\n",
        "\n",
        "auc_dt=auc(dt_fpr,dt_tpr)\n",
        "auc_dt_train=auc(dt_fpr_train,dt_tpr_train)\n",
        "\n",
        "plt.figure(figsize=(10,5))\n",
        "plt.plot(dt_fpr,dt_tpr,marker='.',color='red')\n",
        "plt.plot(dt_fpr_train,dt_tpr_train,marker='*',color='blue')\n",
        "\n",
        "plt.xlabel('False Positive Rate---->')\n",
        "plt.ylabel('True Positive Rate---->')\n"
      ],
      "metadata": {
        "colab": {
          "base_uri": "https://localhost:8080/",
          "height": 1000
        },
        "id": "lOtUonLEFp5o",
        "outputId": "52c64cc5-c8c6-450e-d454-12d9c16fb206"
      },
      "execution_count": null,
      "outputs": [
        {
          "output_type": "stream",
          "name": "stdout",
          "text": [
            "Please enter the name of your dependent variable (same as given in the data): quality\n",
            "please select the size for testing (should be a decimal between 0 and 1): 0.4\n",
            "please specify the random state: 101\n",
            "----------------------------------------------------------------------------------------------\n",
            "shape of x_train= (959, 11)\n",
            "shape of x_test= (640, 11)\n",
            "shape of y_train= (959,)\n",
            "shape of y_test= (640,)\n",
            "----------------------------------------------------------------------------------------------\n",
            "Do you want to scale the data (yes or no): no\n",
            "You have choosen not to scale the data\n",
            "-----------------------------------------------------------------------------------------------\n",
            "------------------------------------------------------------------------------------------------\n",
            "Accuracy score for training data:  1.0\n",
            "Accuracy score for testing data:  0.9078125\n",
            "--------------------------------------------------------------------------------------------------\n",
            "Classification report for training data\n",
            "              precision    recall  f1-score   support\n",
            "\n",
            "           0       1.00      1.00      1.00        36\n",
            "           1       1.00      1.00      1.00       923\n",
            "\n",
            "    accuracy                           1.00       959\n",
            "   macro avg       1.00      1.00      1.00       959\n",
            "weighted avg       1.00      1.00      1.00       959\n",
            "\n",
            "--------------------------------------------------------------------------------------------------\n",
            "Classification report for testing data\n",
            "              precision    recall  f1-score   support\n",
            "\n",
            "           0       0.10      0.15      0.12        27\n",
            "           1       0.96      0.94      0.95       613\n",
            "\n",
            "    accuracy                           0.91       640\n",
            "   macro avg       0.53      0.54      0.54       640\n",
            "weighted avg       0.93      0.91      0.92       640\n",
            "\n",
            "--------------------------------------------------------------------------------------------------\n",
            "Confusion matrix\n",
            "[[  4  23]\n",
            " [ 36 577]]\n",
            "--------------------------------------------------------------------------------------------------\n"
          ]
        },
        {
          "output_type": "execute_result",
          "data": {
            "text/plain": [
              "Text(0, 0.5, 'True Positive Rate---->')"
            ]
          },
          "metadata": {},
          "execution_count": 5
        },
        {
          "output_type": "display_data",
          "data": {
            "text/plain": [
              "<Figure size 720x360 with 1 Axes>"
            ],
            "image/png": "[encoded data removed]"
          },
          "metadata": {
            "needs_background": "light"
          }
        }
      ]
    }
  ]
}
